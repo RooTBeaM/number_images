{
  "nbformat": 4,
  "nbformat_minor": 0,
  "metadata": {
    "colab": {
      "provenance": [],
      "gpuType": "V100"
    },
    "kernelspec": {
      "name": "python3",
      "display_name": "Python 3"
    },
    "language_info": {
      "name": "python"
    },
    "accelerator": "GPU"
  },
  "cells": [
    {
      "cell_type": "code",
      "source": [
        "!nvidia-smi"
      ],
      "metadata": {
        "colab": {
          "base_uri": "https://localhost:8080/"
        },
        "id": "us38JgdMsEp5",
        "outputId": "b86db0ea-e17c-4195-85ae-1d106a62ca1d"
      },
      "execution_count": 1,
      "outputs": [
        {
          "output_type": "stream",
          "name": "stdout",
          "text": [
            "Thu Aug 31 09:56:09 2023       \n",
            "+-----------------------------------------------------------------------------+\n",
            "| NVIDIA-SMI 525.105.17   Driver Version: 525.105.17   CUDA Version: 12.0     |\n",
            "|-------------------------------+----------------------+----------------------+\n",
            "| GPU  Name        Persistence-M| Bus-Id        Disp.A | Volatile Uncorr. ECC |\n",
            "| Fan  Temp  Perf  Pwr:Usage/Cap|         Memory-Usage | GPU-Util  Compute M. |\n",
            "|                               |                      |               MIG M. |\n",
            "|===============================+======================+======================|\n",
            "|   0  Tesla V100-SXM2...  Off  | 00000000:00:04.0 Off |                    0 |\n",
            "| N/A   43C    P0    50W / 300W |      0MiB / 16384MiB |      0%      Default |\n",
            "|                               |                      |                  N/A |\n",
            "+-------------------------------+----------------------+----------------------+\n",
            "                                                                               \n",
            "+-----------------------------------------------------------------------------+\n",
            "| Processes:                                                                  |\n",
            "|  GPU   GI   CI        PID   Type   Process name                  GPU Memory |\n",
            "|        ID   ID                                                   Usage      |\n",
            "|=============================================================================|\n",
            "|  No running processes found                                                 |\n",
            "+-----------------------------------------------------------------------------+\n"
          ]
        }
      ]
    },
    {
      "cell_type": "code",
      "execution_count": 2,
      "metadata": {
        "colab": {
          "base_uri": "https://localhost:8080/"
        },
        "id": "_0nJF_KZq3V7",
        "outputId": "37d492b0-317d-4427-ef11-34b7855cac9f"
      },
      "outputs": [
        {
          "output_type": "stream",
          "name": "stdout",
          "text": [
            "Mounted at /content/drive\n"
          ]
        }
      ],
      "source": [
        "!pip install -U -qq gdown kaggle\n",
        "\n",
        "from google.colab import drive\n",
        "drive.mount('/content/drive')\n",
        "\n",
        "import os\n",
        "!mkdir -p ~/.kaggle/ && cp /content/drive/MyDrive/all_AI_code/kaggle.json ~/.kaggle/ && chmod 600 ~/.kaggle/kaggle.json"
      ]
    },
    {
      "cell_type": "code",
      "source": [
        "import os\n",
        "import json\n",
        "import zipfile\n",
        "import shutil\n",
        "import random\n",
        "import time\n",
        "from pathlib import Path\n",
        "from glob import glob\n",
        "import cv2\n",
        "import PIL\n",
        "from PIL import Image, ImageOps\n",
        "from tqdm import tqdm\n",
        "import pandas as pd\n",
        "import numpy as np\n",
        "\n",
        "import matplotlib.pyplot as plt\n",
        "import seaborn as sns"
      ],
      "metadata": {
        "id": "_aYx-0F8rwuI"
      },
      "execution_count": 2,
      "outputs": []
    },
    {
      "cell_type": "code",
      "source": [
        "# download competition dataset\n",
        "!kaggle competitions download -c hackathon-online-2022-image-processing\n",
        "!mkdir /content/data/\n",
        "\n",
        "with zipfile.ZipFile(\"./hackathon-online-2022-image-processing.zip\", \"r\") as zip_ref:\n",
        "    print(\"Unzipping main_zip data...\")\n",
        "    zip_ref.extractall()\n",
        "\n",
        "with zipfile.ZipFile(\"./IM_Test.zipfile\", \"r\") as zip_ref:\n",
        "    zip_ref.extractall(\"/content/data/\")\n",
        "\n",
        "with zipfile.ZipFile(\"./IM_Train.zipfile\", \"r\") as zip_ref:\n",
        "    zip_ref.extractall(\"/content/data/\")\n",
        "\n",
        "with zipfile.ZipFile(\"/content/data/IM_Train.zipfile\", \"r\") as zip_ref:\n",
        "    zip_ref.extractall(\"/content/data/\")\n",
        "\n",
        "with zipfile.ZipFile(\"/content/data/IM_Test.zipfile\", \"r\") as zip_ref:\n",
        "    zip_ref.extractall(\"/content/data/\")\n",
        "\n",
        "!rm /content/IM_Test.zipfile /content/IM_Train.zipfile /content/hackathon-online-2022-image-processing.zip /content/data/IM_Test.zipfile /content/data/IM_Train.zipfile"
      ],
      "metadata": {
        "colab": {
          "base_uri": "https://localhost:8080/"
        },
        "id": "welzsp8bsXNp",
        "outputId": "8c9acc85-ff5e-4062-a43f-e062de70d89c"
      },
      "execution_count": 3,
      "outputs": [
        {
          "output_type": "stream",
          "name": "stdout",
          "text": [
            "Downloading hackathon-online-2022-image-processing.zip to /content\n",
            " 96% 399M/415M [00:06<00:00, 112MB/s]\n",
            "100% 415M/415M [00:06<00:00, 62.9MB/s]\n",
            "mkdir: cannot create directory ‘/content/data/’: File exists\n",
            "Unzipping main_zip data...\n"
          ]
        }
      ]
    },
    {
      "cell_type": "code",
      "source": [
        "ls = glob(\"/content/data/train/*/*.png\")\n",
        "df_data = pd.DataFrame(ls,columns=['path'])\n",
        "df_data['label'] = df_data['path'].map(lambda x: int(x.split('/')[-2]))\n",
        "df_data.tail(3)"
      ],
      "metadata": {
        "colab": {
          "base_uri": "https://localhost:8080/",
          "height": 143
        },
        "id": "en_9f0UVssJ9",
        "outputId": "f8ae910c-6318-45b1-8eee-47dec15a5940"
      },
      "execution_count": 4,
      "outputs": [
        {
          "output_type": "execute_result",
          "data": {
            "text/plain": [
              "                                    path  label\n",
              "73254  /content/data/train/4/12929.0.png      4\n",
              "73255  /content/data/train/4/19088.0.png      4\n",
              "73256  /content/data/train/4/17147.0.png      4"
            ],
            "text/html": [
              "\n",
              "  <div id=\"df-37a15361-788c-49f9-abc8-8464e0d7a94e\" class=\"colab-df-container\">\n",
              "    <div>\n",
              "<style scoped>\n",
              "    .dataframe tbody tr th:only-of-type {\n",
              "        vertical-align: middle;\n",
              "    }\n",
              "\n",
              "    .dataframe tbody tr th {\n",
              "        vertical-align: top;\n",
              "    }\n",
              "\n",
              "    .dataframe thead th {\n",
              "        text-align: right;\n",
              "    }\n",
              "</style>\n",
              "<table border=\"1\" class=\"dataframe\">\n",
              "  <thead>\n",
              "    <tr style=\"text-align: right;\">\n",
              "      <th></th>\n",
              "      <th>path</th>\n",
              "      <th>label</th>\n",
              "    </tr>\n",
              "  </thead>\n",
              "  <tbody>\n",
              "    <tr>\n",
              "      <th>73254</th>\n",
              "      <td>/content/data/train/4/12929.0.png</td>\n",
              "      <td>4</td>\n",
              "    </tr>\n",
              "    <tr>\n",
              "      <th>73255</th>\n",
              "      <td>/content/data/train/4/19088.0.png</td>\n",
              "      <td>4</td>\n",
              "    </tr>\n",
              "    <tr>\n",
              "      <th>73256</th>\n",
              "      <td>/content/data/train/4/17147.0.png</td>\n",
              "      <td>4</td>\n",
              "    </tr>\n",
              "  </tbody>\n",
              "</table>\n",
              "</div>\n",
              "    <div class=\"colab-df-buttons\">\n",
              "\n",
              "  <div class=\"colab-df-container\">\n",
              "    <button class=\"colab-df-convert\" onclick=\"convertToInteractive('df-37a15361-788c-49f9-abc8-8464e0d7a94e')\"\n",
              "            title=\"Convert this dataframe to an interactive table.\"\n",
              "            style=\"display:none;\">\n",
              "\n",
              "  <svg xmlns=\"http://www.w3.org/2000/svg\" height=\"24px\" viewBox=\"0 -960 960 960\">\n",
              "    <path d=\"M120-120v-720h720v720H120Zm60-500h600v-160H180v160Zm220 220h160v-160H400v160Zm0 220h160v-160H400v160ZM180-400h160v-160H180v160Zm440 0h160v-160H620v160ZM180-180h160v-160H180v160Zm440 0h160v-160H620v160Z\"/>\n",
              "  </svg>\n",
              "    </button>\n",
              "\n",
              "  <style>\n",
              "    .colab-df-container {\n",
              "      display:flex;\n",
              "      gap: 12px;\n",
              "    }\n",
              "\n",
              "    .colab-df-convert {\n",
              "      background-color: #E8F0FE;\n",
              "      border: none;\n",
              "      border-radius: 50%;\n",
              "      cursor: pointer;\n",
              "      display: none;\n",
              "      fill: #1967D2;\n",
              "      height: 32px;\n",
              "      padding: 0 0 0 0;\n",
              "      width: 32px;\n",
              "    }\n",
              "\n",
              "    .colab-df-convert:hover {\n",
              "      background-color: #E2EBFA;\n",
              "      box-shadow: 0px 1px 2px rgba(60, 64, 67, 0.3), 0px 1px 3px 1px rgba(60, 64, 67, 0.15);\n",
              "      fill: #174EA6;\n",
              "    }\n",
              "\n",
              "    .colab-df-buttons div {\n",
              "      margin-bottom: 4px;\n",
              "    }\n",
              "\n",
              "    [theme=dark] .colab-df-convert {\n",
              "      background-color: #3B4455;\n",
              "      fill: #D2E3FC;\n",
              "    }\n",
              "\n",
              "    [theme=dark] .colab-df-convert:hover {\n",
              "      background-color: #434B5C;\n",
              "      box-shadow: 0px 1px 3px 1px rgba(0, 0, 0, 0.15);\n",
              "      filter: drop-shadow(0px 1px 2px rgba(0, 0, 0, 0.3));\n",
              "      fill: #FFFFFF;\n",
              "    }\n",
              "  </style>\n",
              "\n",
              "    <script>\n",
              "      const buttonEl =\n",
              "        document.querySelector('#df-37a15361-788c-49f9-abc8-8464e0d7a94e button.colab-df-convert');\n",
              "      buttonEl.style.display =\n",
              "        google.colab.kernel.accessAllowed ? 'block' : 'none';\n",
              "\n",
              "      async function convertToInteractive(key) {\n",
              "        const element = document.querySelector('#df-37a15361-788c-49f9-abc8-8464e0d7a94e');\n",
              "        const dataTable =\n",
              "          await google.colab.kernel.invokeFunction('convertToInteractive',\n",
              "                                                    [key], {});\n",
              "        if (!dataTable) return;\n",
              "\n",
              "        const docLinkHtml = 'Like what you see? Visit the ' +\n",
              "          '<a target=\"_blank\" href=https://colab.research.google.com/notebooks/data_table.ipynb>data table notebook</a>'\n",
              "          + ' to learn more about interactive tables.';\n",
              "        element.innerHTML = '';\n",
              "        dataTable['output_type'] = 'display_data';\n",
              "        await google.colab.output.renderOutput(dataTable, element);\n",
              "        const docLink = document.createElement('div');\n",
              "        docLink.innerHTML = docLinkHtml;\n",
              "        element.appendChild(docLink);\n",
              "      }\n",
              "    </script>\n",
              "  </div>\n",
              "\n",
              "    </div>\n",
              "  </div>\n"
            ]
          },
          "metadata": {},
          "execution_count": 4
        }
      ]
    },
    {
      "cell_type": "code",
      "source": [
        "# test data\n",
        "!mkdir /content/data/croped_images/\n",
        "\n",
        "with open(\"/content/data/IM_Test/IM_Test.json\") as json_file:\n",
        "    datas = json.load(json_file)\n",
        "\n",
        "df_json = pd.json_normalize(datas)\n",
        "\n",
        "df_test = pd.DataFrame(columns=['path', 'filename', 'imageid_boxid'])\n",
        "\n",
        "for i in tqdm(df_json.index, desc='Croping...'):\n",
        "    pth = f\"/content/data/IM_Test/IM_Test/{i+1}.png\"\n",
        "    img = cv2.imread(pth)\n",
        "\n",
        "    for j in df_json['bboxes'][i]:\n",
        "        name = str(i+1) +'_' + str(j['bbox_id'])\n",
        "        des_pth = f\"/content/data/croped_images/{name}.png\"\n",
        "        df_test.loc[len(df_test)] = [des_pth, df_json['filename'][i], name]\n",
        "\n",
        "        crop_img = img[j['y1']:j['y2'], j['x1']:j['x2']]\n",
        "        cv2.imwrite(str(des_pth), crop_img)"
      ],
      "metadata": {
        "colab": {
          "base_uri": "https://localhost:8080/"
        },
        "id": "FAzs2cNps3-2",
        "outputId": "e992e339-653b-46f3-c2c9-b7c6bd75f569"
      },
      "execution_count": 5,
      "outputs": [
        {
          "output_type": "stream",
          "name": "stdout",
          "text": [
            "mkdir: cannot create directory ‘/content/data/croped_images/’: File exists\n"
          ]
        },
        {
          "output_type": "stream",
          "name": "stderr",
          "text": [
            "Croping...: 100%|██████████| 13068/13068 [01:44<00:00, 125.00it/s]\n"
          ]
        }
      ]
    },
    {
      "cell_type": "code",
      "source": [
        "# Install Timm (Need to restart the runtime after finish install )\n",
        "!pip -qq install git+https://github.com/rwightman/pytorch-image-models.git\n",
        "!pip -qq install lightning transformers datasets evaluate pillow==9.2.0 GPUtil"
      ],
      "metadata": {
        "colab": {
          "base_uri": "https://localhost:8080/"
        },
        "id": "MWtjgQtjtsPl",
        "outputId": "332f9a80-56b0-45a8-9aaa-3f02252dce39"
      },
      "execution_count": 7,
      "outputs": [
        {
          "output_type": "stream",
          "name": "stdout",
          "text": [
            "  Installing build dependencies ... \u001b[?25l\u001b[?25hdone\n",
            "  Getting requirements to build wheel ... \u001b[?25l\u001b[?25hdone\n",
            "  Preparing metadata (pyproject.toml) ... \u001b[?25l\u001b[?25hdone\n",
            "\u001b[2K     \u001b[90m━━━━━━━━━━━━━━━━━━━━━━━━━━━━━━━━━━━━━━━\u001b[0m \u001b[32m268.8/268.8 kB\u001b[0m \u001b[31m1.9 MB/s\u001b[0m eta \u001b[36m0:00:00\u001b[0m\n",
            "\u001b[2K     \u001b[90m━━━━━━━━━━━━━━━━━━━━━━━━━━━━━━━━━━━━━━━━\u001b[0m \u001b[32m1.3/1.3 MB\u001b[0m \u001b[31m10.2 MB/s\u001b[0m eta \u001b[36m0:00:00\u001b[0m\n",
            "\u001b[?25h  Building wheel for timm (pyproject.toml) ... \u001b[?25l\u001b[?25hdone\n",
            "\u001b[2K     \u001b[90m━━━━━━━━━━━━━━━━━━━━━━━━━━━━━━━━━━━━━━━━\u001b[0m \u001b[32m1.9/1.9 MB\u001b[0m \u001b[31m13.3 MB/s\u001b[0m eta \u001b[36m0:00:00\u001b[0m\n",
            "\u001b[2K     \u001b[90m━━━━━━━━━━━━━━━━━━━━━━━━━━━━━━━━━━━━━━━━\u001b[0m \u001b[32m7.5/7.5 MB\u001b[0m \u001b[31m32.1 MB/s\u001b[0m eta \u001b[36m0:00:00\u001b[0m\n",
            "\u001b[2K     \u001b[90m━━━━━━━━━━━━━━━━━━━━━━━━━━━━━━━━━━━━━━\u001b[0m \u001b[32m519.3/519.3 kB\u001b[0m \u001b[31m42.4 MB/s\u001b[0m eta \u001b[36m0:00:00\u001b[0m\n",
            "\u001b[2K     \u001b[90m━━━━━━━━━━━━━━━━━━━━━━━━━━━━━━━━━━━━━━━━\u001b[0m \u001b[32m81.4/81.4 kB\u001b[0m \u001b[31m10.2 MB/s\u001b[0m eta \u001b[36m0:00:00\u001b[0m\n",
            "\u001b[2K     \u001b[90m━━━━━━━━━━━━━━━━━━━━━━━━━━━━━━━━━━━━━━━━\u001b[0m \u001b[32m3.2/3.2 MB\u001b[0m \u001b[31m47.7 MB/s\u001b[0m eta \u001b[36m0:00:00\u001b[0m\n",
            "\u001b[?25h  Preparing metadata (setup.py) ... \u001b[?25l\u001b[?25hdone\n",
            "\u001b[2K     \u001b[90m━━━━━━━━━━━━━━━━━━━━━━━━━━━━━━━━━━━━━━━━\u001b[0m \u001b[32m66.4/66.4 kB\u001b[0m \u001b[31m8.8 MB/s\u001b[0m eta \u001b[36m0:00:00\u001b[0m\n",
            "\u001b[2K     \u001b[90m━━━━━━━━━━━━━━━━━━━━━━━━━━━━━━━━━━━━━━━━\u001b[0m \u001b[32m70.7/70.7 kB\u001b[0m \u001b[31m8.8 MB/s\u001b[0m eta \u001b[36m0:00:00\u001b[0m\n",
            "\u001b[2K     \u001b[90m━━━━━━━━━━━━━━━━━━━━━━━━━━━━━━━━━━━━━━━━\u001b[0m \u001b[32m66.2/66.2 kB\u001b[0m \u001b[31m8.1 MB/s\u001b[0m eta \u001b[36m0:00:00\u001b[0m\n",
            "\u001b[2K     \u001b[90m━━━━━━━━━━━━━━━━━━━━━━━━━━━━━━━━━━━━━━\u001b[0m \u001b[32m596.7/596.7 kB\u001b[0m \u001b[31m45.4 MB/s\u001b[0m eta \u001b[36m0:00:00\u001b[0m\n",
            "\u001b[2K     \u001b[90m━━━━━━━━━━━━━━━━━━━━━━━━━━━━━━━━━━━━━━\u001b[0m \u001b[32m370.9/370.9 kB\u001b[0m \u001b[31m37.8 MB/s\u001b[0m eta \u001b[36m0:00:00\u001b[0m\n",
            "\u001b[2K     \u001b[90m━━━━━━━━━━━━━━━━━━━━━━━━━━━━━━━━━━━━━━━━\u001b[0m \u001b[32m45.7/45.7 kB\u001b[0m \u001b[31m5.2 MB/s\u001b[0m eta \u001b[36m0:00:00\u001b[0m\n",
            "\u001b[2K     \u001b[90m━━━━━━━━━━━━━━━━━━━━━━━━━━━━━━━━━━━━━━━━\u001b[0m \u001b[32m69.9/69.9 kB\u001b[0m \u001b[31m9.3 MB/s\u001b[0m eta \u001b[36m0:00:00\u001b[0m\n",
            "\u001b[2K     \u001b[90m━━━━━━━━━━━━━━━━━━━━━━━━━━━━━━━━━━━━━━\u001b[0m \u001b[32m763.4/763.4 kB\u001b[0m \u001b[31m44.9 MB/s\u001b[0m eta \u001b[36m0:00:00\u001b[0m\n",
            "\u001b[2K     \u001b[90m━━━━━━━━━━━━━━━━━━━━━━━━━━━━━━━━━━━━━━━━\u001b[0m \u001b[32m59.5/59.5 kB\u001b[0m \u001b[31m8.3 MB/s\u001b[0m eta \u001b[36m0:00:00\u001b[0m\n",
            "\u001b[2K     \u001b[90m━━━━━━━━━━━━━━━━━━━━━━━━━━━━━━━━━━━━━━\u001b[0m \u001b[32m129.9/129.9 kB\u001b[0m \u001b[31m15.6 MB/s\u001b[0m eta \u001b[36m0:00:00\u001b[0m\n",
            "\u001b[2K     \u001b[90m━━━━━━━━━━━━━━━━━━━━━━━━━━━━━━━━━━━━━━\u001b[0m \u001b[32m727.0/727.0 kB\u001b[0m \u001b[31m49.5 MB/s\u001b[0m eta \u001b[36m0:00:00\u001b[0m\n",
            "\u001b[2K     \u001b[90m━━━━━━━━━━━━━━━━━━━━━━━━━━━━━━━━━━━━━━━━\u001b[0m \u001b[32m7.8/7.8 MB\u001b[0m \u001b[31m63.7 MB/s\u001b[0m eta \u001b[36m0:00:00\u001b[0m\n",
            "\u001b[2K     \u001b[90m━━━━━━━━━━━━━━━━━━━━━━━━━━━━━━━━━━━━━━\u001b[0m \u001b[32m115.3/115.3 kB\u001b[0m \u001b[31m16.1 MB/s\u001b[0m eta \u001b[36m0:00:00\u001b[0m\n",
            "\u001b[2K     \u001b[90m━━━━━━━━━━━━━━━━━━━━━━━━━━━━━━━━━━━━━━\u001b[0m \u001b[32m194.1/194.1 kB\u001b[0m \u001b[31m23.8 MB/s\u001b[0m eta \u001b[36m0:00:00\u001b[0m\n",
            "\u001b[2K     \u001b[90m━━━━━━━━━━━━━━━━━━━━━━━━━━━━━━━━━━━━━━\u001b[0m \u001b[32m134.8/134.8 kB\u001b[0m \u001b[31m14.6 MB/s\u001b[0m eta \u001b[36m0:00:00\u001b[0m\n",
            "\u001b[2K     \u001b[90m━━━━━━━━━━━━━━━━━━━━━━━━━━━━━━━━━━━━━━━━\u001b[0m \u001b[32m67.0/67.0 kB\u001b[0m \u001b[31m8.4 MB/s\u001b[0m eta \u001b[36m0:00:00\u001b[0m\n",
            "\u001b[2K     \u001b[90m━━━━━━━━━━━━━━━━━━━━━━━━━━━━━━━━━━━━━━━━\u001b[0m \u001b[32m58.4/58.4 kB\u001b[0m \u001b[31m7.3 MB/s\u001b[0m eta \u001b[36m0:00:00\u001b[0m\n",
            "\u001b[2K     \u001b[90m━━━━━━━━━━━━━━━━━━━━━━━━━━━━━━━━━━━━━━━━\u001b[0m \u001b[32m1.9/1.9 MB\u001b[0m \u001b[31m15.2 MB/s\u001b[0m eta \u001b[36m0:00:00\u001b[0m\n",
            "\u001b[2K     \u001b[90m━━━━━━━━━━━━━━━━━━━━━━━━━━━━━━━━━━━━━━━━\u001b[0m \u001b[32m58.3/58.3 kB\u001b[0m \u001b[31m7.4 MB/s\u001b[0m eta \u001b[36m0:00:00\u001b[0m\n",
            "\u001b[?25h  Building wheel for GPUtil (setup.py) ... \u001b[?25l\u001b[?25hdone\n"
          ]
        }
      ]
    },
    {
      "cell_type": "code",
      "source": [
        "import GPUtil\n",
        "\n",
        "def free_gpu_cache():\n",
        "    print(\"Initial GPU Usage\")\n",
        "    GPUtil.showUtilization()\n",
        "    torch.cuda.empty_cache()\n",
        "    print(\"GPU Usage after emptying the cache\")\n",
        "    GPUtil.showUtilization()"
      ],
      "metadata": {
        "id": "Y5pvccM573LT"
      },
      "execution_count": 6,
      "outputs": []
    },
    {
      "cell_type": "code",
      "source": [
        "import torch\n",
        "import torch.nn as nn\n",
        "import torchvision.transforms as T\n",
        "from torch.utils.data import DataLoader, Dataset\n",
        "\n",
        "# Pytorch Image model (TIMM) library: a library for state-of-the-art image classification\n",
        "import timm\n",
        "import timm.optim\n",
        "import timm.scheduler\n",
        "\n",
        "from sklearn.metrics import confusion_matrix\n",
        "from sklearn.metrics import ConfusionMatrixDisplay\n",
        "from sklearn.metrics import classification_report\n",
        "\n",
        "import evaluate\n",
        "from lightning.fabric import Fabric"
      ],
      "metadata": {
        "id": "KZO1yoF0rwA-"
      },
      "execution_count": 7,
      "outputs": []
    },
    {
      "cell_type": "code",
      "source": [
        "# Transform image data based on ImageNet's mean and std\n",
        "# mean = torch.tensor([0.48145466, 0.4578275, 0.40821073])\n",
        "# std = torch.tensor([0.26862954, 0.26130258, 0.27577711])\n",
        "mean = torch.tensor([0.485, 0.456, 0.406])\n",
        "std = torch.tensor([0.229, 0.224, 0.225])\n",
        "data_transforms = {\n",
        "    \"train\": T.Compose([\n",
        "        T.RandomInvert(),\n",
        "        T.RandomEqualize(),\n",
        "        T.Resize((384, 384)),\n",
        "        T.ToTensor(),\n",
        "        T.Normalize(mean=mean, std=std)\n",
        "    ]),\n",
        "    \"valid\": T.Compose([\n",
        "        T.Resize((384, 384)),\n",
        "        T.ToTensor(),\n",
        "        T.Normalize(mean=mean, std=std)\n",
        "    ]),\n",
        "    \"test\": T.Compose([\n",
        "        T.Resize((384, 384)),\n",
        "        T.ToTensor(),\n",
        "        T.Normalize(mean=mean, std=std)\n",
        "    ])\n",
        "}"
      ],
      "metadata": {
        "id": "Yy3PNBMHt9km"
      },
      "execution_count": 8,
      "outputs": []
    },
    {
      "cell_type": "code",
      "source": [
        "class trainDataset(Dataset):\n",
        "    def __init__(self, df=df_data, transforms=data_transforms, mode='train', sample=4000, fullData=False):\n",
        "      self.IMG_SIZE = 384\n",
        "      self.mode = mode\n",
        "      if fullData:\n",
        "        self.data = df_data.sample(frac=1).reset_index(drop=True)\n",
        "        self.transforms = transforms[mode]\n",
        "      else:\n",
        "        self.data_0 = df[df['label']==0].sample(sample)\n",
        "        self.data_1 = df[df['label']==1].sample(sample)\n",
        "        self.data_2 = df[df['label']==2].sample(sample)\n",
        "        self.data_3 = df[df['label']==3].sample(sample)\n",
        "        self.data_4 = df[df['label']==4].sample(sample)\n",
        "        self.data_5 = df[df['label']==5].sample(sample)\n",
        "        self.data_6 = df[df['label']==6].sample(sample)\n",
        "        self.data_7 = df[df['label']==7].sample(sample)\n",
        "        self.data_8 = df[df['label']==8].sample(sample)\n",
        "        self.data_9 = df[df['label']==9].sample(sample)\n",
        "        self.data = pd.concat([self.data_0,self.data_1,self.data_2,self.data_3,self.data_4,\n",
        "                               self.data_5,self.data_6,self.data_7,self.data_8,self.data_9\n",
        "                               ],).sample(frac=1).reset_index(drop=True)\n",
        "        self.transforms = transforms[mode]\n",
        "\n",
        "    def __len__(self):\n",
        "        return len(self.data)\n",
        "\n",
        "    def preprocess(self, path):\n",
        "      if self.mode == 'train':\n",
        "        img = cv2.imread(path)\n",
        "        h,w,_ = img.shape\n",
        "        if w>h:\n",
        "          img = img[:,int(w/2-h/2):int(w/2+h/2)]\n",
        "        image_rgb = cv2.cvtColor(img, cv2.COLOR_BGR2RGB)\n",
        "        img = Image.fromarray(image_rgb)\n",
        "        img = ImageOps.contain(img, (self.IMG_SIZE, self.IMG_SIZE), Image.Resampling.LANCZOS)\n",
        "        img = ImageOps.autocontrast(img)\n",
        "        img = ImageOps.grayscale(img)\n",
        "        img = ImageOps.autocontrast(img)\n",
        "        if random.randint(0,1)==1:\n",
        "          img = ImageOps.invert(img)\n",
        "          img = ImageOps.pad(img, (self.IMG_SIZE, self.IMG_SIZE),method=Image.Resampling.LANCZOS, centering=(0,0))\n",
        "        else:\n",
        "          img = ImageOps.pad(img, (self.IMG_SIZE, self.IMG_SIZE),method=Image.Resampling.LANCZOS, centering=(0.5,0.5))\n",
        "      else:\n",
        "        img = Image.open(path)\n",
        "        img = ImageOps.contain(img, (self.IMG_SIZE, self.IMG_SIZE), Image.Resampling.LANCZOS)\n",
        "        img = ImageOps.autocontrast(img)\n",
        "        img = ImageOps.grayscale(img)\n",
        "        img = ImageOps.autocontrast(img)\n",
        "        img = ImageOps.pad(img, (self.IMG_SIZE, self.IMG_SIZE), centering=(0, 0))\n",
        "      return img.convert(\"RGB\")\n",
        "\n",
        "    def __getitem__(self, index):\n",
        "        path = self.data['path'][index]\n",
        "        label = int(path.split('/')[-2])\n",
        "        img = self.preprocess(path)\n",
        "        img = self.transforms(img)\n",
        "        return img, label"
      ],
      "metadata": {
        "id": "P4-tGZu2t9h4"
      },
      "execution_count": 9,
      "outputs": []
    },
    {
      "cell_type": "code",
      "source": [
        "train_dataset = trainDataset(df_data,transforms=data_transforms, mode='train', sample=4000, fullData=False)\n",
        "print(\"total images :\",len(train_dataset))\n",
        "# plt.figure(figsize=(15, 7))\n",
        "# for i in range(50):\n",
        "#     img = train_dataset[i][0]\n",
        "#     ax = plt.subplot(5, 10, i + 1)\n",
        "#     plt.imshow(np.array(img), cmap='gray')\n",
        "#     plt.title(str(train_dataset[i][1]))\n",
        "#     plt.axis('off')\n",
        "# plt.show()"
      ],
      "metadata": {
        "colab": {
          "base_uri": "https://localhost:8080/"
        },
        "id": "09PVNgAbt9fJ",
        "outputId": "30ae206c-b1eb-4f41-acfe-89de398e168f"
      },
      "execution_count": 10,
      "outputs": [
        {
          "output_type": "stream",
          "name": "stdout",
          "text": [
            "total images : 40000\n"
          ]
        }
      ]
    },
    {
      "cell_type": "code",
      "source": [
        "torch.set_float32_matmul_precision('high')\n",
        "fabric = Fabric(accelerator=\"cuda\") # , precision=\"16-mixed\"\n",
        "fabric.launch()\n",
        "\n",
        "device = torch.device(\"cuda\" if torch.cuda.is_available() else \"cpu\")\n",
        "device"
      ],
      "metadata": {
        "colab": {
          "base_uri": "https://localhost:8080/"
        },
        "id": "4ihkMiFvt9bm",
        "outputId": "608650b5-1b81-4d4a-9014-9e51e260582d"
      },
      "execution_count": 11,
      "outputs": [
        {
          "output_type": "execute_result",
          "data": {
            "text/plain": [
              "device(type='cuda')"
            ]
          },
          "metadata": {},
          "execution_count": 11
        }
      ]
    },
    {
      "cell_type": "code",
      "source": [
        "free_gpu_cache()"
      ],
      "metadata": {
        "colab": {
          "base_uri": "https://localhost:8080/"
        },
        "id": "4gfFmoSBt9Q3",
        "outputId": "c9e019d8-382f-48be-9e52-cafed709e20c"
      },
      "execution_count": 12,
      "outputs": [
        {
          "output_type": "stream",
          "name": "stdout",
          "text": [
            "Initial GPU Usage\n",
            "| ID | GPU | MEM |\n",
            "------------------\n",
            "|  0 |  0% |  0% |\n",
            "GPU Usage after emptying the cache\n",
            "| ID | GPU | MEM |\n",
            "------------------\n",
            "|  0 |  0% |  0% |\n"
          ]
        }
      ]
    },
    {
      "cell_type": "code",
      "source": [
        "# timm.list_models('*efficientnet*', pretrained=True)"
      ],
      "metadata": {
        "id": "r4ezQqdu78Dr"
      },
      "execution_count": 13,
      "outputs": []
    },
    {
      "cell_type": "code",
      "source": [
        "# # Install torchinfo if it's not available, import it if it is\n",
        "# try:\n",
        "#     import torchinfo\n",
        "# except:\n",
        "#     !pip install torchinfo\n",
        "#     import torchinfo\n",
        "\n",
        "# from torchinfo import summary\n",
        "# model_name = \"tf_efficientnet_b7.ns_jft_in1k\"\n",
        "# model = timm.create_model(model_name, pretrained=True, num_classes=10)\n",
        "# summary(model, input_size=[32, 3, 244, 244]) # do a test pass through of an example input size"
      ],
      "metadata": {
        "id": "Iwtr_r1k_mt7"
      },
      "execution_count": 17,
      "outputs": []
    },
    {
      "cell_type": "code",
      "source": [
        "def epoch_time(start_time, end_time):\n",
        "    elapsed_time = end_time - start_time\n",
        "    elapsed_mins = int(elapsed_time / 60)\n",
        "    elapsed_secs = int(elapsed_time - (elapsed_mins * 60))\n",
        "    return elapsed_mins, elapsed_secs"
      ],
      "metadata": {
        "id": "suo3rZD278t-"
      },
      "execution_count": 14,
      "outputs": []
    },
    {
      "cell_type": "code",
      "source": [
        "all_eval_scores = []\n",
        "\n",
        "# Cross Validation Configuration\n",
        "metric = evaluate.load(\"f1\")\n",
        "train_batch_size = 8\n",
        "eval_batch_size = 8\n",
        "num_accumulate = 4\n",
        "num_epochs = 11\n",
        "\n",
        "# Load Model\n",
        "model_name = \"tf_efficientnet_b7.ns_jft_in1k\"\n",
        "model = timm.create_model(model_name, pretrained=True, num_classes=10)\n",
        "\n",
        "# Load Optimizer and Scheduler\n",
        "criterion = nn.CrossEntropyLoss()\n",
        "optimizer = timm.optim.create_optimizer_v2(model, opt=\"AdamW\", lr=5e-4)\n",
        "# optimizer = timm.optim.Lookahead(optimizer, alpha=0.5, k=6)    # update the slow weight every k steps\n",
        "                                                                # update the optimizer by combine slow weight and fast weight * alpha\n",
        "\n",
        "model, optimizer = fabric.setup(model, optimizer)\n",
        "\n",
        "scheduler = timm.scheduler.create_scheduler_v2(optimizer, num_epochs=num_epochs)[0]\n",
        "\n",
        "info = {\n",
        "        \"metric_train\": [],\n",
        "        \"metric_val\": [],\n",
        "        \"train_loss\": [],\n",
        "        \"val_loss\": [],\n",
        "        \"best_metric_val\": -999,\n",
        "        \"best_val_loss\": 999,\n",
        "    }\n",
        "for epoch in range(num_epochs):\n",
        "    train_loss_epoch = []\n",
        "    val_loss_epoch = []\n",
        "\n",
        "    train_preds = []\n",
        "    train_targets = []\n",
        "\n",
        "    val_preds = []\n",
        "    val_targets = []\n",
        "\n",
        "    if epoch%10==0 and epoch!=0:\n",
        "      train_dataset = trainDataset(df_data,transforms = data_transforms, mode = 'train', sample = 4000, fullData = False)\n",
        "    else:\n",
        "      train_dataset = trainDataset(df_data,transforms = data_transforms, mode = 'train', sample = 2000, fullData = False)\n",
        "\n",
        "    valid_dataset = trainDataset(df_data,transforms = data_transforms, mode = 'valid', sample = 400)\n",
        "\n",
        "    train_dataloader = DataLoader(train_dataset, batch_size=train_batch_size, shuffle=True, num_workers=2, pin_memory=True)\n",
        "    val_dataloader = DataLoader(valid_dataset, batch_size=eval_batch_size, shuffle=False, num_workers=2, pin_memory=True)\n",
        "\n",
        "\n",
        "    train_dataloader = fabric.setup_dataloaders(train_dataloader)\n",
        "    val_dataloader = fabric.setup_dataloaders(val_dataloader)\n",
        "    num_updates = epoch * len(train_dataloader)\n",
        "\n",
        "    ### === Train Loop === ###\n",
        "    ## Time\n",
        "    start_time = time.monotonic()\n",
        "\n",
        "    model.train()\n",
        "    for idx, batch in enumerate(tqdm(train_dataloader, desc=f\"Epoch: {epoch+1} | Training \", leave=False)):\n",
        "        inputs, targets = batch\n",
        "        outputs = model(inputs.to(device))\n",
        "        loss = criterion(outputs, targets.to(device))\n",
        "\n",
        "        fabric.backward(loss)\n",
        "\n",
        "        # === Gradient Accumulation === #\n",
        "        if ((idx + 1) % num_accumulate == 0) or (idx + 1 == len(train_dataloader)):\n",
        "            optimizer.step()\n",
        "            scheduler.step_update(num_updates=num_updates)\n",
        "            optimizer.zero_grad()\n",
        "        # ============================= #\n",
        "\n",
        "        train_loss_epoch.append(loss.item())\n",
        "        train_preds += outputs.argmax(-1).detach().cpu().tolist()\n",
        "        train_targets += targets.tolist()\n",
        "    ### ==================== ###\n",
        "\n",
        "    # optimizer.sync_lookahead()              # Sync slow weight and fast weight\n",
        "    scheduler.step(epoch + 1)\n",
        "\n",
        "    ### === Evaluation Loop === ###\n",
        "    if epoch%3==0 or epoch>9:\n",
        "      model.eval()\n",
        "      with torch.no_grad():\n",
        "          for batch in tqdm(val_dataloader, desc=f\"Epoch: {epoch+1} | Evaluating \", leave=False):\n",
        "              inputs, targets = batch\n",
        "              outputs = model(inputs.to(device))\n",
        "              loss = criterion(outputs, targets.to(device))\n",
        "\n",
        "              # Log Values\n",
        "              val_loss_epoch.append(loss.item())\n",
        "              val_preds += outputs.argmax(-1).detach().cpu().tolist()\n",
        "              val_targets += targets.tolist()\n",
        "\n",
        "      metric_val = metric.compute(predictions=val_preds, references=val_targets, average='macro')['f1']\n",
        "      info[\"metric_val\"].append(metric_val)\n",
        "      info[\"val_loss\"].append(np.average(val_loss_epoch))\n",
        "\n",
        "    else:\n",
        "      metric_val = 0.0\n",
        "      val_loss_epoch = 0.0\n",
        "\n",
        "    ### ======================= ###\n",
        "    ## Time train finish\n",
        "    end_time = time.monotonic()\n",
        "\n",
        "    # Log Data\n",
        "    metric_train = metric.compute(predictions=train_preds, references=train_targets, average='macro')['f1']\n",
        "    info[\"metric_train\"].append(metric_train)\n",
        "    info[\"train_loss\"].append(np.average(train_loss_epoch))\n",
        "\n",
        "\n",
        "    if metric_val > info[\"best_metric_val\"]:\n",
        "    # if info[\"val_loss\"][-1] < info[\"best_val_loss\"]:\n",
        "        # print(\"New Best Score!\")\n",
        "        # print(\"New Best Val Loss\")\n",
        "        info[\"best_metric_val\"] = metric_val\n",
        "        # info[\"best_val_loss\"] = info[\"val_loss\"][-1]\n",
        "        torch.save(model, f\"/content/tf_efficientnet_b7_best.pt\")\n",
        "\n",
        "    epoch_mins, epoch_secs = epoch_time(start_time, end_time)\n",
        "    str_time = f\"{epoch_mins}m {epoch_secs}s\"\n",
        "    print(f\"Epoch: {epoch+1} : {str_time.ljust(7)} | Loss : train {np.average(train_loss_epoch):.4f} valid {np.average(val_loss_epoch):.4f} | f1-macro : train {metric_train*100:.2f}% valid {metric_val*100:.2f}%\")\n",
        "    # print(info)\n",
        "    # save all best metric val\n",
        "    # all_eval_scores.append(info[\"best_metric_val\"])"
      ],
      "metadata": {
        "colab": {
          "base_uri": "https://localhost:8080/"
        },
        "id": "j0YRiZVb8dAE",
        "outputId": "e17004ca-dc6f-46af-80c7-c927c45a03af"
      },
      "execution_count": 16,
      "outputs": [
        {
          "output_type": "stream",
          "name": "stderr",
          "text": []
        },
        {
          "output_type": "stream",
          "name": "stdout",
          "text": [
            "Epoch: 1 : 12m 41s | Loss : train 0.5220 valid 0.3792 | f1-macro : train 84.45% valid 88.98%\n"
          ]
        },
        {
          "output_type": "stream",
          "name": "stderr",
          "text": []
        },
        {
          "output_type": "stream",
          "name": "stdout",
          "text": [
            "Epoch: 2 : 23m 36s | Loss : train 0.2908 valid 0.0000 | f1-macro : train 91.78% valid 0.00%\n"
          ]
        },
        {
          "output_type": "stream",
          "name": "stderr",
          "text": []
        },
        {
          "output_type": "stream",
          "name": "stdout",
          "text": [
            "Epoch: 3 : 11m 52s | Loss : train 0.2375 valid 0.0000 | f1-macro : train 93.34% valid 0.00%\n"
          ]
        },
        {
          "output_type": "stream",
          "name": "stderr",
          "text": []
        },
        {
          "output_type": "stream",
          "name": "stdout",
          "text": [
            "Epoch: 4 : 12m 40s | Loss : train 0.2143 valid 0.3111 | f1-macro : train 93.98% valid 90.74%\n"
          ]
        },
        {
          "output_type": "stream",
          "name": "stderr",
          "text": []
        },
        {
          "output_type": "stream",
          "name": "stdout",
          "text": [
            "Epoch: 5 : 11m 51s | Loss : train 0.1859 valid 0.0000 | f1-macro : train 94.92% valid 0.00%\n"
          ]
        },
        {
          "output_type": "stream",
          "name": "stderr",
          "text": []
        },
        {
          "output_type": "stream",
          "name": "stdout",
          "text": [
            "Epoch: 6 : 11m 54s | Loss : train 0.1637 valid 0.0000 | f1-macro : train 95.49% valid 0.00%\n"
          ]
        },
        {
          "output_type": "stream",
          "name": "stderr",
          "text": []
        },
        {
          "output_type": "stream",
          "name": "stdout",
          "text": [
            "Epoch: 7 : 13m 11s | Loss : train 0.1361 valid 0.1633 | f1-macro : train 96.27% valid 95.14%\n"
          ]
        },
        {
          "output_type": "stream",
          "name": "stderr",
          "text": []
        },
        {
          "output_type": "stream",
          "name": "stdout",
          "text": [
            "Epoch: 8 : 11m 55s | Loss : train 0.1174 valid 0.0000 | f1-macro : train 96.86% valid 0.00%\n"
          ]
        },
        {
          "output_type": "stream",
          "name": "stderr",
          "text": []
        },
        {
          "output_type": "stream",
          "name": "stdout",
          "text": [
            "Epoch: 9 : 11m 52s | Loss : train 0.0912 valid 0.0000 | f1-macro : train 97.66% valid 0.00%\n"
          ]
        },
        {
          "output_type": "stream",
          "name": "stderr",
          "text": []
        },
        {
          "output_type": "stream",
          "name": "stdout",
          "text": [
            "Epoch: 10 : 12m 45s | Loss : train 0.0768 valid 0.1159 | f1-macro : train 98.15% valid 96.70%\n"
          ]
        },
        {
          "output_type": "stream",
          "name": "stderr",
          "text": []
        },
        {
          "output_type": "stream",
          "name": "stdout",
          "text": [
            "Epoch: 11 : 12m 36s | Loss : train 0.0631 valid 0.1087 | f1-macro : train 98.45% valid 96.78%\n"
          ]
        }
      ]
    },
    {
      "cell_type": "code",
      "source": [
        "# save latest trained model at epoch 11\n",
        "torch.save(model, f\"/content/tf_efficientnet_b7_ep11.pt\")"
      ],
      "metadata": {
        "id": "ItO2VekM-Maz"
      },
      "execution_count": 19,
      "outputs": []
    },
    {
      "cell_type": "code",
      "source": [
        "# prediction report base on balance classes at model ep30\n",
        "fake_test_dataset = trainDataset(df_data,transforms = data_transforms, mode = 'test', sample = 600)\n",
        "fake_test_dataloader = DataLoader(fake_test_dataset, batch_size=eval_batch_size, shuffle=False, num_workers=2, pin_memory=True)\n",
        "loaded_model = torch.load(f\"/content/tf_efficientnet_b7_ep11.pt\")\n",
        "ls_ans_fake_test = []\n",
        "ls_target =[]\n",
        "\n",
        "loaded_model.eval()\n",
        "with torch.no_grad():\n",
        "    for batch in tqdm(fake_test_dataloader, desc=\"Evaluating \", leave=False):\n",
        "        inputs, targets = batch\n",
        "        outputs = loaded_model(inputs.to(device))\n",
        "        y_pred = torch.argmax(torch.softmax(outputs, dim=1), dim=1)\n",
        "        ls_ans_fake_test.extend(y_pred.tolist())\n",
        "        ls_target.extend(targets.tolist())\n",
        "print(classification_report(ls_ans_fake_test, ls_target))"
      ],
      "metadata": {
        "colab": {
          "base_uri": "https://localhost:8080/"
        },
        "id": "4mwkfGGG-MX0",
        "outputId": "25e2d8e3-b76d-43b3-a2af-ed3f45fe0214"
      },
      "execution_count": 20,
      "outputs": [
        {
          "output_type": "stream",
          "name": "stderr",
          "text": [
            "                                                              "
          ]
        },
        {
          "output_type": "stream",
          "name": "stdout",
          "text": [
            "              precision    recall  f1-score   support\n",
            "\n",
            "           0       0.99      0.99      0.99       602\n",
            "           1       0.96      0.95      0.96       610\n",
            "           2       0.96      0.97      0.97       593\n",
            "           3       0.97      0.96      0.97       611\n",
            "           4       0.97      0.97      0.97       597\n",
            "           5       0.95      0.97      0.96       587\n",
            "           6       0.97      0.97      0.97       603\n",
            "           7       0.96      0.99      0.97       585\n",
            "           8       0.97      0.96      0.97       609\n",
            "           9       0.97      0.96      0.97       603\n",
            "\n",
            "    accuracy                           0.97      6000\n",
            "   macro avg       0.97      0.97      0.97      6000\n",
            "weighted avg       0.97      0.97      0.97      6000\n",
            "\n"
          ]
        },
        {
          "output_type": "stream",
          "name": "stderr",
          "text": [
            "\r"
          ]
        }
      ]
    },
    {
      "cell_type": "code",
      "source": [
        "cm = confusion_matrix(ls_ans_fake_test, ls_target)\n",
        "cm_display = ConfusionMatrixDisplay(cm).plot()"
      ],
      "metadata": {
        "colab": {
          "base_uri": "https://localhost:8080/",
          "height": 449
        },
        "id": "GfekQTZC-MTe",
        "outputId": "e830bcac-ec1b-47dd-8e23-e6c395c62c3f"
      },
      "execution_count": 21,
      "outputs": [
        {
          "output_type": "display_data",
          "data": {
            "text/plain": [
              "<Figure size 640x480 with 2 Axes>"
            ],
            "image/png": "[encoded data removed]"
          },
          "metadata": {}
        }
      ]
    },
    {
      "cell_type": "code",
      "source": [
        "# prediction report base on balance classes at model best\n",
        "loaded_model = torch.load(f\"/content/tf_efficientnet_b7_best.pt\")\n",
        "ls_ans_fake_test = []\n",
        "ls_target =[]\n",
        "\n",
        "loaded_model.eval()\n",
        "with torch.no_grad():\n",
        "    for batch in tqdm(fake_test_dataloader, desc=\"Evaluating \", leave=False):\n",
        "        inputs, targets = batch\n",
        "        outputs = loaded_model(inputs.to(device))\n",
        "        y_pred = torch.argmax(torch.softmax(outputs, dim=1), dim=1)\n",
        "        ls_ans_fake_test.extend(y_pred.tolist())\n",
        "        ls_target.extend(targets.tolist())\n",
        "print(classification_report(ls_ans_fake_test, ls_target))"
      ],
      "metadata": {
        "colab": {
          "base_uri": "https://localhost:8080/"
        },
        "id": "0xE_z9A9-MMI",
        "outputId": "60f10d07-a381-4362-f0ca-38a18e5d4ada"
      },
      "execution_count": 22,
      "outputs": [
        {
          "output_type": "stream",
          "name": "stderr",
          "text": [
            "                                                              "
          ]
        },
        {
          "output_type": "stream",
          "name": "stdout",
          "text": [
            "              precision    recall  f1-score   support\n",
            "\n",
            "           0       0.99      0.99      0.99       602\n",
            "           1       0.96      0.95      0.96       610\n",
            "           2       0.96      0.97      0.97       593\n",
            "           3       0.97      0.96      0.97       611\n",
            "           4       0.97      0.97      0.97       597\n",
            "           5       0.95      0.97      0.96       587\n",
            "           6       0.97      0.97      0.97       603\n",
            "           7       0.96      0.99      0.97       585\n",
            "           8       0.97      0.96      0.97       609\n",
            "           9       0.97      0.96      0.97       603\n",
            "\n",
            "    accuracy                           0.97      6000\n",
            "   macro avg       0.97      0.97      0.97      6000\n",
            "weighted avg       0.97      0.97      0.97      6000\n",
            "\n"
          ]
        },
        {
          "output_type": "stream",
          "name": "stderr",
          "text": [
            "\r"
          ]
        }
      ]
    },
    {
      "cell_type": "code",
      "source": [
        "cm = confusion_matrix(ls_ans_fake_test, ls_target)\n",
        "cm_display = ConfusionMatrixDisplay(cm).plot()"
      ],
      "metadata": {
        "colab": {
          "base_uri": "https://localhost:8080/",
          "height": 449
        },
        "id": "ksqsSp90aL29",
        "outputId": "21a8aebc-2591-4915-9514-f9133d140dc5"
      },
      "execution_count": 23,
      "outputs": [
        {
          "output_type": "display_data",
          "data": {
            "text/plain": [
              "<Figure size 640x480 with 2 Axes>"
            ],
            "image/png": "[encoded data removed]"
          },
          "metadata": {}
        }
      ]
    },
    {
      "cell_type": "code",
      "source": [
        "class testDataset(Dataset):\n",
        "    def __init__(self, df = df_data, transforms = data_transforms, mode = 'test'):\n",
        "        self.data = df\n",
        "        self.transforms = transforms[mode]\n",
        "        self.IMG_SIZE = 384\n",
        "\n",
        "    def __len__(self):\n",
        "        return len(self.data)\n",
        "\n",
        "    def preprocess(self, path):\n",
        "        img = Image.open(path)\n",
        "        img = ImageOps.contain(img, (self.IMG_SIZE, self.IMG_SIZE), Image.Resampling.LANCZOS)\n",
        "        img = ImageOps.autocontrast(img)\n",
        "        img = ImageOps.grayscale(img)\n",
        "        img = ImageOps.autocontrast(img)\n",
        "        img = ImageOps.pad(img, (self.IMG_SIZE, self.IMG_SIZE), centering=(0, 0))\n",
        "        return img.convert(\"RGB\")\n",
        "\n",
        "    def __getitem__(self, index):\n",
        "        path = self.data['path'][index]\n",
        "        img = self.preprocess(path)\n",
        "        img = self.transforms(img)\n",
        "        return img\n",
        "\n",
        "test_dataset = testDataset(df_test, transforms=data_transforms, mode='test')\n",
        "test_dataloader = DataLoader(test_dataset, batch_size=eval_batch_size, shuffle=False, num_workers=2, pin_memory=True)"
      ],
      "metadata": {
        "id": "Y6nPWVAgaL0e"
      },
      "execution_count": 24,
      "outputs": []
    },
    {
      "cell_type": "code",
      "source": [
        "ls_ans = []\n",
        "\n",
        "loaded_model = torch.load(f\"/content/tf_efficientnet_b7_ep11.pt\")\n",
        "loaded_model.eval()\n",
        "with torch.no_grad():\n",
        "    for batch in tqdm(test_dataloader, desc=\"Evaluating \", leave=False):\n",
        "        inputs = batch\n",
        "        outputs = loaded_model(inputs.to(device))\n",
        "        y_pred = torch.argmax(torch.softmax(outputs, dim=1), dim=1)\n",
        "        ls_ans.extend(y_pred.tolist())"
      ],
      "metadata": {
        "colab": {
          "base_uri": "https://localhost:8080/"
        },
        "id": "KQhCWMWqaLx4",
        "outputId": "19642458-5a25-482c-833e-d2a39f0d09d5"
      },
      "execution_count": 25,
      "outputs": [
        {
          "output_type": "stream",
          "name": "stderr",
          "text": []
        }
      ]
    },
    {
      "cell_type": "code",
      "source": [
        "ls_ans[:15]"
      ],
      "metadata": {
        "colab": {
          "base_uri": "https://localhost:8080/"
        },
        "id": "yh7ozpEVaLvB",
        "outputId": "8f28d523-45db-4b30-8d73-5ec407dec783"
      },
      "execution_count": 26,
      "outputs": [
        {
          "output_type": "execute_result",
          "data": {
            "text/plain": [
              "[5, 2, 1, 0, 6, 1, 9, 1, 1, 8, 3, 6, 5, 1, 4]"
            ]
          },
          "metadata": {},
          "execution_count": 26
        }
      ]
    },
    {
      "cell_type": "code",
      "source": [
        "df_test"
      ],
      "metadata": {
        "colab": {
          "base_uri": "https://localhost:8080/",
          "height": 424
        },
        "id": "cZRRW1VInKur",
        "outputId": "68cc118a-f596-4be5-8e90-7915e81361f7"
      },
      "execution_count": 27,
      "outputs": [
        {
          "output_type": "execute_result",
          "data": {
            "text/plain": [
              "                                          path   filename imageid_boxid\n",
              "0          /content/data/croped_images/1_0.png      1.png           1_0\n",
              "1          /content/data/croped_images/2_0.png      2.png           2_0\n",
              "2          /content/data/croped_images/2_1.png      2.png           2_1\n",
              "3          /content/data/croped_images/2_2.png      2.png           2_2\n",
              "4          /content/data/croped_images/3_0.png      3.png           3_0\n",
              "...                                        ...        ...           ...\n",
              "26027  /content/data/croped_images/13067_0.png  13067.png       13067_0\n",
              "26028  /content/data/croped_images/13067_1.png  13067.png       13067_1\n",
              "26029  /content/data/croped_images/13067_2.png  13067.png       13067_2\n",
              "26030  /content/data/croped_images/13068_0.png  13068.png       13068_0\n",
              "26031  /content/data/croped_images/13068_1.png  13068.png       13068_1\n",
              "\n",
              "[26032 rows x 3 columns]"
            ],
            "text/html": [
              "\n",
              "  <div id=\"df-a5d71f87-ce9e-408e-bf76-d24cf4615eb2\" class=\"colab-df-container\">\n",
              "    <div>\n",
              "<style scoped>\n",
              "    .dataframe tbody tr th:only-of-type {\n",
              "        vertical-align: middle;\n",
              "    }\n",
              "\n",
              "    .dataframe tbody tr th {\n",
              "        vertical-align: top;\n",
              "    }\n",
              "\n",
              "    .dataframe thead th {\n",
              "        text-align: right;\n",
              "    }\n",
              "</style>\n",
              "<table border=\"1\" class=\"dataframe\">\n",
              "  <thead>\n",
              "    <tr style=\"text-align: right;\">\n",
              "      <th></th>\n",
              "      <th>path</th>\n",
              "      <th>filename</th>\n",
              "      <th>imageid_boxid</th>\n",
              "    </tr>\n",
              "  </thead>\n",
              "  <tbody>\n",
              "    <tr>\n",
              "      <th>0</th>\n",
              "      <td>/content/data/croped_images/1_0.png</td>\n",
              "      <td>1.png</td>\n",
              "      <td>1_0</td>\n",
              "    </tr>\n",
              "    <tr>\n",
              "      <th>1</th>\n",
              "      <td>/content/data/croped_images/2_0.png</td>\n",
              "      <td>2.png</td>\n",
              "      <td>2_0</td>\n",
              "    </tr>\n",
              "    <tr>\n",
              "      <th>2</th>\n",
              "      <td>/content/data/croped_images/2_1.png</td>\n",
              "      <td>2.png</td>\n",
              "      <td>2_1</td>\n",
              "    </tr>\n",
              "    <tr>\n",
              "      <th>3</th>\n",
              "      <td>/content/data/croped_images/2_2.png</td>\n",
              "      <td>2.png</td>\n",
              "      <td>2_2</td>\n",
              "    </tr>\n",
              "    <tr>\n",
              "      <th>4</th>\n",
              "      <td>/content/data/croped_images/3_0.png</td>\n",
              "      <td>3.png</td>\n",
              "      <td>3_0</td>\n",
              "    </tr>\n",
              "    <tr>\n",
              "      <th>...</th>\n",
              "      <td>...</td>\n",
              "      <td>...</td>\n",
              "      <td>...</td>\n",
              "    </tr>\n",
              "    <tr>\n",
              "      <th>26027</th>\n",
              "      <td>/content/data/croped_images/13067_0.png</td>\n",
              "      <td>13067.png</td>\n",
              "      <td>13067_0</td>\n",
              "    </tr>\n",
              "    <tr>\n",
              "      <th>26028</th>\n",
              "      <td>/content/data/croped_images/13067_1.png</td>\n",
              "      <td>13067.png</td>\n",
              "      <td>13067_1</td>\n",
              "    </tr>\n",
              "    <tr>\n",
              "      <th>26029</th>\n",
              "      <td>/content/data/croped_images/13067_2.png</td>\n",
              "      <td>13067.png</td>\n",
              "      <td>13067_2</td>\n",
              "    </tr>\n",
              "    <tr>\n",
              "      <th>26030</th>\n",
              "      <td>/content/data/croped_images/13068_0.png</td>\n",
              "      <td>13068.png</td>\n",
              "      <td>13068_0</td>\n",
              "    </tr>\n",
              "    <tr>\n",
              "      <th>26031</th>\n",
              "      <td>/content/data/croped_images/13068_1.png</td>\n",
              "      <td>13068.png</td>\n",
              "      <td>13068_1</td>\n",
              "    </tr>\n",
              "  </tbody>\n",
              "</table>\n",
              "<p>26032 rows × 3 columns</p>\n",
              "</div>\n",
              "    <div class=\"colab-df-buttons\">\n",
              "\n",
              "  <div class=\"colab-df-container\">\n",
              "    <button class=\"colab-df-convert\" onclick=\"convertToInteractive('df-a5d71f87-ce9e-408e-bf76-d24cf4615eb2')\"\n",
              "            title=\"Convert this dataframe to an interactive table.\"\n",
              "            style=\"display:none;\">\n",
              "\n",
              "  <svg xmlns=\"http://www.w3.org/2000/svg\" height=\"24px\" viewBox=\"0 -960 960 960\">\n",
              "    <path d=\"M120-120v-720h720v720H120Zm60-500h600v-160H180v160Zm220 220h160v-160H400v160Zm0 220h160v-160H400v160ZM180-400h160v-160H180v160Zm440 0h160v-160H620v160ZM180-180h160v-160H180v160Zm440 0h160v-160H620v160Z\"/>\n",
              "  </svg>\n",
              "    </button>\n",
              "\n",
              "  <style>\n",
              "    .colab-df-container {\n",
              "      display:flex;\n",
              "      gap: 12px;\n",
              "    }\n",
              "\n",
              "    .colab-df-convert {\n",
              "      background-color: #E8F0FE;\n",
              "      border: none;\n",
              "      border-radius: 50%;\n",
              "      cursor: pointer;\n",
              "      display: none;\n",
              "      fill: #1967D2;\n",
              "      height: 32px;\n",
              "      padding: 0 0 0 0;\n",
              "      width: 32px;\n",
              "    }\n",
              "\n",
              "    .colab-df-convert:hover {\n",
              "      background-color: #E2EBFA;\n",
              "      box-shadow: 0px 1px 2px rgba(60, 64, 67, 0.3), 0px 1px 3px 1px rgba(60, 64, 67, 0.15);\n",
              "      fill: #174EA6;\n",
              "    }\n",
              "\n",
              "    .colab-df-buttons div {\n",
              "      margin-bottom: 4px;\n",
              "    }\n",
              "\n",
              "    [theme=dark] .colab-df-convert {\n",
              "      background-color: #3B4455;\n",
              "      fill: #D2E3FC;\n",
              "    }\n",
              "\n",
              "    [theme=dark] .colab-df-convert:hover {\n",
              "      background-color: #434B5C;\n",
              "      box-shadow: 0px 1px 3px 1px rgba(0, 0, 0, 0.15);\n",
              "      filter: drop-shadow(0px 1px 2px rgba(0, 0, 0, 0.3));\n",
              "      fill: #FFFFFF;\n",
              "    }\n",
              "  </style>\n",
              "\n",
              "    <script>\n",
              "      const buttonEl =\n",
              "        document.querySelector('#df-a5d71f87-ce9e-408e-bf76-d24cf4615eb2 button.colab-df-convert');\n",
              "      buttonEl.style.display =\n",
              "        google.colab.kernel.accessAllowed ? 'block' : 'none';\n",
              "\n",
              "      async function convertToInteractive(key) {\n",
              "        const element = document.querySelector('#df-a5d71f87-ce9e-408e-bf76-d24cf4615eb2');\n",
              "        const dataTable =\n",
              "          await google.colab.kernel.invokeFunction('convertToInteractive',\n",
              "                                                    [key], {});\n",
              "        if (!dataTable) return;\n",
              "\n",
              "        const docLinkHtml = 'Like what you see? Visit the ' +\n",
              "          '<a target=\"_blank\" href=https://colab.research.google.com/notebooks/data_table.ipynb>data table notebook</a>'\n",
              "          + ' to learn more about interactive tables.';\n",
              "        element.innerHTML = '';\n",
              "        dataTable['output_type'] = 'display_data';\n",
              "        await google.colab.output.renderOutput(dataTable, element);\n",
              "        const docLink = document.createElement('div');\n",
              "        docLink.innerHTML = docLinkHtml;\n",
              "        element.appendChild(docLink);\n",
              "      }\n",
              "    </script>\n",
              "  </div>\n",
              "\n",
              "\n",
              "<div id=\"df-dc69a3e0-1650-4c3c-a4e8-67e73619a135\">\n",
              "  <button class=\"colab-df-quickchart\" onclick=\"quickchart('df-dc69a3e0-1650-4c3c-a4e8-67e73619a135')\"\n",
              "            title=\"Suggest charts.\"\n",
              "            style=\"display:none;\">\n",
              "\n",
              "<svg xmlns=\"http://www.w3.org/2000/svg\" height=\"24px\"viewBox=\"0 0 24 24\"\n",
              "     width=\"24px\">\n",
              "    <g>\n",
              "        <path d=\"M19 3H5c-1.1 0-2 .9-2 2v14c0 1.1.9 2 2 2h14c1.1 0 2-.9 2-2V5c0-1.1-.9-2-2-2zM9 17H7v-7h2v7zm4 0h-2V7h2v10zm4 0h-2v-4h2v4z\"/>\n",
              "    </g>\n",
              "</svg>\n",
              "  </button>\n",
              "\n",
              "<style>\n",
              "  .colab-df-quickchart {\n",
              "    background-color: #E8F0FE;\n",
              "    border: none;\n",
              "    border-radius: 50%;\n",
              "    cursor: pointer;\n",
              "    display: none;\n",
              "    fill: #1967D2;\n",
              "    height: 32px;\n",
              "    padding: 0 0 0 0;\n",
              "    width: 32px;\n",
              "  }\n",
              "\n",
              "  .colab-df-quickchart:hover {\n",
              "    background-color: #E2EBFA;\n",
              "    box-shadow: 0px 1px 2px rgba(60, 64, 67, 0.3), 0px 1px 3px 1px rgba(60, 64, 67, 0.15);\n",
              "    fill: #174EA6;\n",
              "  }\n",
              "\n",
              "  [theme=dark] .colab-df-quickchart {\n",
              "    background-color: #3B4455;\n",
              "    fill: #D2E3FC;\n",
              "  }\n",
              "\n",
              "  [theme=dark] .colab-df-quickchart:hover {\n",
              "    background-color: #434B5C;\n",
              "    box-shadow: 0px 1px 3px 1px rgba(0, 0, 0, 0.15);\n",
              "    filter: drop-shadow(0px 1px 2px rgba(0, 0, 0, 0.3));\n",
              "    fill: #FFFFFF;\n",
              "  }\n",
              "</style>\n",
              "\n",
              "  <script>\n",
              "    async function quickchart(key) {\n",
              "      const charts = await google.colab.kernel.invokeFunction(\n",
              "          'suggestCharts', [key], {});\n",
              "    }\n",
              "    (() => {\n",
              "      let quickchartButtonEl =\n",
              "        document.querySelector('#df-dc69a3e0-1650-4c3c-a4e8-67e73619a135 button');\n",
              "      quickchartButtonEl.style.display =\n",
              "        google.colab.kernel.accessAllowed ? 'block' : 'none';\n",
              "    })();\n",
              "  </script>\n",
              "</div>\n",
              "    </div>\n",
              "  </div>\n"
            ]
          },
          "metadata": {},
          "execution_count": 27
        }
      ]
    },
    {
      "cell_type": "code",
      "source": [
        "df_submit = pd.read_csv('/content/IM_Submit.csv')\n",
        "df_submit['class'] = ls_ans\n",
        "df_submit"
      ],
      "metadata": {
        "colab": {
          "base_uri": "https://localhost:8080/",
          "height": 424
        },
        "id": "bKsoVFIutdsF",
        "outputId": "45190ea8-11f8-4752-d36c-5c5fd04d66d6"
      },
      "execution_count": 28,
      "outputs": [
        {
          "output_type": "execute_result",
          "data": {
            "text/plain": [
              "      imageid_boxid  class\n",
              "0               1_0      5\n",
              "1               2_0      2\n",
              "2               2_1      1\n",
              "3               2_2      0\n",
              "4               3_0      6\n",
              "...             ...    ...\n",
              "26027       13067_0      2\n",
              "26028       13067_1      2\n",
              "26029       13067_2      7\n",
              "26030       13068_0      6\n",
              "26031       13068_1      7\n",
              "\n",
              "[26032 rows x 2 columns]"
            ],
            "text/html": [
              "\n",
              "  <div id=\"df-0e32bab5-e66b-4dd7-b689-9933189867f4\" class=\"colab-df-container\">\n",
              "    <div>\n",
              "<style scoped>\n",
              "    .dataframe tbody tr th:only-of-type {\n",
              "        vertical-align: middle;\n",
              "    }\n",
              "\n",
              "    .dataframe tbody tr th {\n",
              "        vertical-align: top;\n",
              "    }\n",
              "\n",
              "    .dataframe thead th {\n",
              "        text-align: right;\n",
              "    }\n",
              "</style>\n",
              "<table border=\"1\" class=\"dataframe\">\n",
              "  <thead>\n",
              "    <tr style=\"text-align: right;\">\n",
              "      <th></th>\n",
              "      <th>imageid_boxid</th>\n",
              "      <th>class</th>\n",
              "    </tr>\n",
              "  </thead>\n",
              "  <tbody>\n",
              "    <tr>\n",
              "      <th>0</th>\n",
              "      <td>1_0</td>\n",
              "      <td>5</td>\n",
              "    </tr>\n",
              "    <tr>\n",
              "      <th>1</th>\n",
              "      <td>2_0</td>\n",
              "      <td>2</td>\n",
              "    </tr>\n",
              "    <tr>\n",
              "      <th>2</th>\n",
              "      <td>2_1</td>\n",
              "      <td>1</td>\n",
              "    </tr>\n",
              "    <tr>\n",
              "      <th>3</th>\n",
              "      <td>2_2</td>\n",
              "      <td>0</td>\n",
              "    </tr>\n",
              "    <tr>\n",
              "      <th>4</th>\n",
              "      <td>3_0</td>\n",
              "      <td>6</td>\n",
              "    </tr>\n",
              "    <tr>\n",
              "      <th>...</th>\n",
              "      <td>...</td>\n",
              "      <td>...</td>\n",
              "    </tr>\n",
              "    <tr>\n",
              "      <th>26027</th>\n",
              "      <td>13067_0</td>\n",
              "      <td>2</td>\n",
              "    </tr>\n",
              "    <tr>\n",
              "      <th>26028</th>\n",
              "      <td>13067_1</td>\n",
              "      <td>2</td>\n",
              "    </tr>\n",
              "    <tr>\n",
              "      <th>26029</th>\n",
              "      <td>13067_2</td>\n",
              "      <td>7</td>\n",
              "    </tr>\n",
              "    <tr>\n",
              "      <th>26030</th>\n",
              "      <td>13068_0</td>\n",
              "      <td>6</td>\n",
              "    </tr>\n",
              "    <tr>\n",
              "      <th>26031</th>\n",
              "      <td>13068_1</td>\n",
              "      <td>7</td>\n",
              "    </tr>\n",
              "  </tbody>\n",
              "</table>\n",
              "<p>26032 rows × 2 columns</p>\n",
              "</div>\n",
              "    <div class=\"colab-df-buttons\">\n",
              "\n",
              "  <div class=\"colab-df-container\">\n",
              "    <button class=\"colab-df-convert\" onclick=\"convertToInteractive('df-0e32bab5-e66b-4dd7-b689-9933189867f4')\"\n",
              "            title=\"Convert this dataframe to an interactive table.\"\n",
              "            style=\"display:none;\">\n",
              "\n",
              "  <svg xmlns=\"http://www.w3.org/2000/svg\" height=\"24px\" viewBox=\"0 -960 960 960\">\n",
              "    <path d=\"M120-120v-720h720v720H120Zm60-500h600v-160H180v160Zm220 220h160v-160H400v160Zm0 220h160v-160H400v160ZM180-400h160v-160H180v160Zm440 0h160v-160H620v160ZM180-180h160v-160H180v160Zm440 0h160v-160H620v160Z\"/>\n",
              "  </svg>\n",
              "    </button>\n",
              "\n",
              "  <style>\n",
              "    .colab-df-container {\n",
              "      display:flex;\n",
              "      gap: 12px;\n",
              "    }\n",
              "\n",
              "    .colab-df-convert {\n",
              "      background-color: #E8F0FE;\n",
              "      border: none;\n",
              "      border-radius: 50%;\n",
              "      cursor: pointer;\n",
              "      display: none;\n",
              "      fill: #1967D2;\n",
              "      height: 32px;\n",
              "      padding: 0 0 0 0;\n",
              "      width: 32px;\n",
              "    }\n",
              "\n",
              "    .colab-df-convert:hover {\n",
              "      background-color: #E2EBFA;\n",
              "      box-shadow: 0px 1px 2px rgba(60, 64, 67, 0.3), 0px 1px 3px 1px rgba(60, 64, 67, 0.15);\n",
              "      fill: #174EA6;\n",
              "    }\n",
              "\n",
              "    .colab-df-buttons div {\n",
              "      margin-bottom: 4px;\n",
              "    }\n",
              "\n",
              "    [theme=dark] .colab-df-convert {\n",
              "      background-color: #3B4455;\n",
              "      fill: #D2E3FC;\n",
              "    }\n",
              "\n",
              "    [theme=dark] .colab-df-convert:hover {\n",
              "      background-color: #434B5C;\n",
              "      box-shadow: 0px 1px 3px 1px rgba(0, 0, 0, 0.15);\n",
              "      filter: drop-shadow(0px 1px 2px rgba(0, 0, 0, 0.3));\n",
              "      fill: #FFFFFF;\n",
              "    }\n",
              "  </style>\n",
              "\n",
              "    <script>\n",
              "      const buttonEl =\n",
              "        document.querySelector('#df-0e32bab5-e66b-4dd7-b689-9933189867f4 button.colab-df-convert');\n",
              "      buttonEl.style.display =\n",
              "        google.colab.kernel.accessAllowed ? 'block' : 'none';\n",
              "\n",
              "      async function convertToInteractive(key) {\n",
              "        const element = document.querySelector('#df-0e32bab5-e66b-4dd7-b689-9933189867f4');\n",
              "        const dataTable =\n",
              "          await google.colab.kernel.invokeFunction('convertToInteractive',\n",
              "                                                    [key], {});\n",
              "        if (!dataTable) return;\n",
              "\n",
              "        const docLinkHtml = 'Like what you see? Visit the ' +\n",
              "          '<a target=\"_blank\" href=https://colab.research.google.com/notebooks/data_table.ipynb>data table notebook</a>'\n",
              "          + ' to learn more about interactive tables.';\n",
              "        element.innerHTML = '';\n",
              "        dataTable['output_type'] = 'display_data';\n",
              "        await google.colab.output.renderOutput(dataTable, element);\n",
              "        const docLink = document.createElement('div');\n",
              "        docLink.innerHTML = docLinkHtml;\n",
              "        element.appendChild(docLink);\n",
              "      }\n",
              "    </script>\n",
              "  </div>\n",
              "\n",
              "\n",
              "<div id=\"df-9a7820c3-20d1-4513-a6ee-f4bfe577d85b\">\n",
              "  <button class=\"colab-df-quickchart\" onclick=\"quickchart('df-9a7820c3-20d1-4513-a6ee-f4bfe577d85b')\"\n",
              "            title=\"Suggest charts.\"\n",
              "            style=\"display:none;\">\n",
              "\n",
              "<svg xmlns=\"http://www.w3.org/2000/svg\" height=\"24px\"viewBox=\"0 0 24 24\"\n",
              "     width=\"24px\">\n",
              "    <g>\n",
              "        <path d=\"M19 3H5c-1.1 0-2 .9-2 2v14c0 1.1.9 2 2 2h14c1.1 0 2-.9 2-2V5c0-1.1-.9-2-2-2zM9 17H7v-7h2v7zm4 0h-2V7h2v10zm4 0h-2v-4h2v4z\"/>\n",
              "    </g>\n",
              "</svg>\n",
              "  </button>\n",
              "\n",
              "<style>\n",
              "  .colab-df-quickchart {\n",
              "    background-color: #E8F0FE;\n",
              "    border: none;\n",
              "    border-radius: 50%;\n",
              "    cursor: pointer;\n",
              "    display: none;\n",
              "    fill: #1967D2;\n",
              "    height: 32px;\n",
              "    padding: 0 0 0 0;\n",
              "    width: 32px;\n",
              "  }\n",
              "\n",
              "  .colab-df-quickchart:hover {\n",
              "    background-color: #E2EBFA;\n",
              "    box-shadow: 0px 1px 2px rgba(60, 64, 67, 0.3), 0px 1px 3px 1px rgba(60, 64, 67, 0.15);\n",
              "    fill: #174EA6;\n",
              "  }\n",
              "\n",
              "  [theme=dark] .colab-df-quickchart {\n",
              "    background-color: #3B4455;\n",
              "    fill: #D2E3FC;\n",
              "  }\n",
              "\n",
              "  [theme=dark] .colab-df-quickchart:hover {\n",
              "    background-color: #434B5C;\n",
              "    box-shadow: 0px 1px 3px 1px rgba(0, 0, 0, 0.15);\n",
              "    filter: drop-shadow(0px 1px 2px rgba(0, 0, 0, 0.3));\n",
              "    fill: #FFFFFF;\n",
              "  }\n",
              "</style>\n",
              "\n",
              "  <script>\n",
              "    async function quickchart(key) {\n",
              "      const charts = await google.colab.kernel.invokeFunction(\n",
              "          'suggestCharts', [key], {});\n",
              "    }\n",
              "    (() => {\n",
              "      let quickchartButtonEl =\n",
              "        document.querySelector('#df-9a7820c3-20d1-4513-a6ee-f4bfe577d85b button');\n",
              "      quickchartButtonEl.style.display =\n",
              "        google.colab.kernel.accessAllowed ? 'block' : 'none';\n",
              "    })();\n",
              "  </script>\n",
              "</div>\n",
              "    </div>\n",
              "  </div>\n"
            ]
          },
          "metadata": {},
          "execution_count": 28
        }
      ]
    },
    {
      "cell_type": "code",
      "source": [
        "df = df_submit.sample(50)\n",
        "ls_name = df_submit['imageid_boxid'].tolist()\n",
        "ls_lable = df_submit['class'].tolist()\n",
        "plt.figure(figsize=(15, 7))\n",
        "for i in range(50):\n",
        "  ax = plt.subplot(5, 10, i + 1)\n",
        "  img = cv2.imread('/content/data/croped_images/'+ls_name[i]+'.png')\n",
        "  # h,w,_ = img.shape\n",
        "  # if w>h:\n",
        "  #   img = img[:,int(w/2-h/2):int(w/2+h/2)]\n",
        "  plt.imshow(img)\n",
        "  plt.title(str(ls_lable[i]))\n",
        "  plt.axis('off')"
      ],
      "metadata": {
        "colab": {
          "base_uri": "https://localhost:8080/",
          "height": 534
        },
        "id": "ZjeAIyB6vDRZ",
        "outputId": "1dd34b95-74a0-472b-df59-112c5d317f49"
      },
      "execution_count": 29,
      "outputs": [
        {
          "output_type": "display_data",
          "data": {
            "text/plain": [
              "<Figure size 1500x700 with 50 Axes>"
            ],
            "image/png": "[encoded data removed]"
          },
          "metadata": {}
        }
      ]
    },
    {
      "cell_type": "code",
      "source": [
        "# maxvit_base_tf_224_ep10\n",
        "df_submit['class'].value_counts()"
      ],
      "metadata": {
        "colab": {
          "base_uri": "https://localhost:8080/"
        },
        "id": "n1ezk3niu0Ou",
        "outputId": "4531bc14-93d9-4d2a-a289-ddcf02df823e"
      },
      "execution_count": null,
      "outputs": [
        {
          "output_type": "execute_result",
          "data": {
            "text/plain": [
              "1    5059\n",
              "2    4157\n",
              "3    2855\n",
              "4    2544\n",
              "5    2353\n",
              "7    2027\n",
              "6    1953\n",
              "0    1768\n",
              "8    1674\n",
              "9    1642\n",
              "Name: class, dtype: int64"
            ]
          },
          "metadata": {},
          "execution_count": 30
        }
      ]
    },
    {
      "cell_type": "code",
      "source": [
        "# tf_efficientnet_b7_ep11\n",
        "df_submit['class'].value_counts()"
      ],
      "metadata": {
        "colab": {
          "base_uri": "https://localhost:8080/"
        },
        "id": "jtswCqLZXF3Q",
        "outputId": "df9bd54e-4dc9-4de9-8ac2-76020548936f"
      },
      "execution_count": 30,
      "outputs": [
        {
          "output_type": "execute_result",
          "data": {
            "text/plain": [
              "1    5006\n",
              "2    4129\n",
              "3    2857\n",
              "4    2568\n",
              "5    2363\n",
              "7    2046\n",
              "6    1968\n",
              "0    1783\n",
              "8    1668\n",
              "9    1644\n",
              "Name: class, dtype: int64"
            ]
          },
          "metadata": {},
          "execution_count": 30
        }
      ]
    },
    {
      "cell_type": "code",
      "source": [
        "df_submit.to_csv('tf_efficientnet_b7_ep11.csv', index=False)"
      ],
      "metadata": {
        "id": "6-DBjRQVnKse"
      },
      "execution_count": 31,
      "outputs": []
    },
    {
      "cell_type": "code",
      "source": [
        "!kaggle competitions submit -c hackathon-online-2022-image-processing -f tf_efficientnet_b7_ep11.csv -m \"tf_efficientnet_b7_ep11\""
      ],
      "metadata": {
        "colab": {
          "base_uri": "https://localhost:8080/"
        },
        "id": "3KRtGYsvnKp4",
        "outputId": "d37f2f99-f35d-454a-a4a0-c94c8e39f322"
      },
      "execution_count": 32,
      "outputs": [
        {
          "output_type": "stream",
          "name": "stdout",
          "text": [
            "100% 233k/233k [00:02<00:00, 110kB/s] \n",
            "Successfully submitted to Hackathon Online: Image Processing"
          ]
        }
      ]
    },
    {
      "cell_type": "code",
      "source": [],
      "metadata": {
        "id": "Pg0P6ywAnKmA"
      },
      "execution_count": null,
      "outputs": []
    }
  ]
}