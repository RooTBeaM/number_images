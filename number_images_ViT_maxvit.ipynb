{
  "nbformat": 4,
  "nbformat_minor": 0,
  "metadata": {
    "colab": {
      "provenance": [],
      "gpuType": "V100"
    },
    "kernelspec": {
      "name": "python3",
      "display_name": "Python 3"
    },
    "language_info": {
      "name": "python"
    },
    "accelerator": "GPU",
    "widgets": {
      "application/vnd.jupyter.widget-state+json": {
        "dcaa46fc876c4212921e799df01ef5f2": {
          "model_module": "@jupyter-widgets/controls",
          "model_name": "HBoxModel",
          "model_module_version": "1.5.0",
          "state": {
            "_dom_classes": [],
            "_model_module": "@jupyter-widgets/controls",
            "_model_module_version": "1.5.0",
            "_model_name": "HBoxModel",
            "_view_count": null,
            "_view_module": "@jupyter-widgets/controls",
            "_view_module_version": "1.5.0",
            "_view_name": "HBoxView",
            "box_style": "",
            "children": [
              "IPY_MODEL_3707c24323144094975e31ec0ff7e560",
              "IPY_MODEL_3c8561e7c6d94d899b0970ec675e7ce5",
              "IPY_MODEL_15573d081659448ca72cbd24c42129a0"
            ],
            "layout": "IPY_MODEL_1104b20e6d094eb88f75c77074f2a5fa"
          }
        },
        "3707c24323144094975e31ec0ff7e560": {
          "model_module": "@jupyter-widgets/controls",
          "model_name": "HTMLModel",
          "model_module_version": "1.5.0",
          "state": {
            "_dom_classes": [],
            "_model_module": "@jupyter-widgets/controls",
            "_model_module_version": "1.5.0",
            "_model_name": "HTMLModel",
            "_view_count": null,
            "_view_module": "@jupyter-widgets/controls",
            "_view_module_version": "1.5.0",
            "_view_name": "HTMLView",
            "description": "",
            "description_tooltip": null,
            "layout": "IPY_MODEL_572afd70aa664c55bc18fe0d32c7abd9",
            "placeholder": "​",
            "style": "IPY_MODEL_b00aeaea43af484b9fc2920ddf83377e",
            "value": "Downloading builder script: 100%"
          }
        },
        "3c8561e7c6d94d899b0970ec675e7ce5": {
          "model_module": "@jupyter-widgets/controls",
          "model_name": "FloatProgressModel",
          "model_module_version": "1.5.0",
          "state": {
            "_dom_classes": [],
            "_model_module": "@jupyter-widgets/controls",
            "_model_module_version": "1.5.0",
            "_model_name": "FloatProgressModel",
            "_view_count": null,
            "_view_module": "@jupyter-widgets/controls",
            "_view_module_version": "1.5.0",
            "_view_name": "ProgressView",
            "bar_style": "success",
            "description": "",
            "description_tooltip": null,
            "layout": "IPY_MODEL_eec51d39aa5b478591e130b4ea068c2a",
            "max": 6771,
            "min": 0,
            "orientation": "horizontal",
            "style": "IPY_MODEL_07f9fcc33d554e55b19f74ff65feb724",
            "value": 6771
          }
        },
        "15573d081659448ca72cbd24c42129a0": {
          "model_module": "@jupyter-widgets/controls",
          "model_name": "HTMLModel",
          "model_module_version": "1.5.0",
          "state": {
            "_dom_classes": [],
            "_model_module": "@jupyter-widgets/controls",
            "_model_module_version": "1.5.0",
            "_model_name": "HTMLModel",
            "_view_count": null,
            "_view_module": "@jupyter-widgets/controls",
            "_view_module_version": "1.5.0",
            "_view_name": "HTMLView",
            "description": "",
            "description_tooltip": null,
            "layout": "IPY_MODEL_cf9fec7fd44a48588a97dd0a4e7a9a4a",
            "placeholder": "​",
            "style": "IPY_MODEL_f42d758f0c3442bfbb1931a42dc09b97",
            "value": " 6.77k/6.77k [00:00&lt;00:00, 143kB/s]"
          }
        },
        "1104b20e6d094eb88f75c77074f2a5fa": {
          "model_module": "@jupyter-widgets/base",
          "model_name": "LayoutModel",
          "model_module_version": "1.2.0",
          "state": {
            "_model_module": "@jupyter-widgets/base",
            "_model_module_version": "1.2.0",
            "_model_name": "LayoutModel",
            "_view_count": null,
            "_view_module": "@jupyter-widgets/base",
            "_view_module_version": "1.2.0",
            "_view_name": "LayoutView",
            "align_content": null,
            "align_items": null,
            "align_self": null,
            "border": null,
            "bottom": null,
            "display": null,
            "flex": null,
            "flex_flow": null,
            "grid_area": null,
            "grid_auto_columns": null,
            "grid_auto_flow": null,
            "grid_auto_rows": null,
            "grid_column": null,
            "grid_gap": null,
            "grid_row": null,
            "grid_template_areas": null,
            "grid_template_columns": null,
            "grid_template_rows": null,
            "height": null,
            "justify_content": null,
            "justify_items": null,
            "left": null,
            "margin": null,
            "max_height": null,
            "max_width": null,
            "min_height": null,
            "min_width": null,
            "object_fit": null,
            "object_position": null,
            "order": null,
            "overflow": null,
            "overflow_x": null,
            "overflow_y": null,
            "padding": null,
            "right": null,
            "top": null,
            "visibility": null,
            "width": null
          }
        },
        "572afd70aa664c55bc18fe0d32c7abd9": {
          "model_module": "@jupyter-widgets/base",
          "model_name": "LayoutModel",
          "model_module_version": "1.2.0",
          "state": {
            "_model_module": "@jupyter-widgets/base",
            "_model_module_version": "1.2.0",
            "_model_name": "LayoutModel",
            "_view_count": null,
            "_view_module": "@jupyter-widgets/base",
            "_view_module_version": "1.2.0",
            "_view_name": "LayoutView",
            "align_content": null,
            "align_items": null,
            "align_self": null,
            "border": null,
            "bottom": null,
            "display": null,
            "flex": null,
            "flex_flow": null,
            "grid_area": null,
            "grid_auto_columns": null,
            "grid_auto_flow": null,
            "grid_auto_rows": null,
            "grid_column": null,
            "grid_gap": null,
            "grid_row": null,
            "grid_template_areas": null,
            "grid_template_columns": null,
            "grid_template_rows": null,
            "height": null,
            "justify_content": null,
            "justify_items": null,
            "left": null,
            "margin": null,
            "max_height": null,
            "max_width": null,
            "min_height": null,
            "min_width": null,
            "object_fit": null,
            "object_position": null,
            "order": null,
            "overflow": null,
            "overflow_x": null,
            "overflow_y": null,
            "padding": null,
            "right": null,
            "top": null,
            "visibility": null,
            "width": null
          }
        },
        "b00aeaea43af484b9fc2920ddf83377e": {
          "model_module": "@jupyter-widgets/controls",
          "model_name": "DescriptionStyleModel",
          "model_module_version": "1.5.0",
          "state": {
            "_model_module": "@jupyter-widgets/controls",
            "_model_module_version": "1.5.0",
            "_model_name": "DescriptionStyleModel",
            "_view_count": null,
            "_view_module": "@jupyter-widgets/base",
            "_view_module_version": "1.2.0",
            "_view_name": "StyleView",
            "description_width": ""
          }
        },
        "eec51d39aa5b478591e130b4ea068c2a": {
          "model_module": "@jupyter-widgets/base",
          "model_name": "LayoutModel",
          "model_module_version": "1.2.0",
          "state": {
            "_model_module": "@jupyter-widgets/base",
            "_model_module_version": "1.2.0",
            "_model_name": "LayoutModel",
            "_view_count": null,
            "_view_module": "@jupyter-widgets/base",
            "_view_module_version": "1.2.0",
            "_view_name": "LayoutView",
            "align_content": null,
            "align_items": null,
            "align_self": null,
            "border": null,
            "bottom": null,
            "display": null,
            "flex": null,
            "flex_flow": null,
            "grid_area": null,
            "grid_auto_columns": null,
            "grid_auto_flow": null,
            "grid_auto_rows": null,
            "grid_column": null,
            "grid_gap": null,
            "grid_row": null,
            "grid_template_areas": null,
            "grid_template_columns": null,
            "grid_template_rows": null,
            "height": null,
            "justify_content": null,
            "justify_items": null,
            "left": null,
            "margin": null,
            "max_height": null,
            "max_width": null,
            "min_height": null,
            "min_width": null,
            "object_fit": null,
            "object_position": null,
            "order": null,
            "overflow": null,
            "overflow_x": null,
            "overflow_y": null,
            "padding": null,
            "right": null,
            "top": null,
            "visibility": null,
            "width": null
          }
        },
        "07f9fcc33d554e55b19f74ff65feb724": {
          "model_module": "@jupyter-widgets/controls",
          "model_name": "ProgressStyleModel",
          "model_module_version": "1.5.0",
          "state": {
            "_model_module": "@jupyter-widgets/controls",
            "_model_module_version": "1.5.0",
            "_model_name": "ProgressStyleModel",
            "_view_count": null,
            "_view_module": "@jupyter-widgets/base",
            "_view_module_version": "1.2.0",
            "_view_name": "StyleView",
            "bar_color": null,
            "description_width": ""
          }
        },
        "cf9fec7fd44a48588a97dd0a4e7a9a4a": {
          "model_module": "@jupyter-widgets/base",
          "model_name": "LayoutModel",
          "model_module_version": "1.2.0",
          "state": {
            "_model_module": "@jupyter-widgets/base",
            "_model_module_version": "1.2.0",
            "_model_name": "LayoutModel",
            "_view_count": null,
            "_view_module": "@jupyter-widgets/base",
            "_view_module_version": "1.2.0",
            "_view_name": "LayoutView",
            "align_content": null,
            "align_items": null,
            "align_self": null,
            "border": null,
            "bottom": null,
            "display": null,
            "flex": null,
            "flex_flow": null,
            "grid_area": null,
            "grid_auto_columns": null,
            "grid_auto_flow": null,
            "grid_auto_rows": null,
            "grid_column": null,
            "grid_gap": null,
            "grid_row": null,
            "grid_template_areas": null,
            "grid_template_columns": null,
            "grid_template_rows": null,
            "height": null,
            "justify_content": null,
            "justify_items": null,
            "left": null,
            "margin": null,
            "max_height": null,
            "max_width": null,
            "min_height": null,
            "min_width": null,
            "object_fit": null,
            "object_position": null,
            "order": null,
            "overflow": null,
            "overflow_x": null,
            "overflow_y": null,
            "padding": null,
            "right": null,
            "top": null,
            "visibility": null,
            "width": null
          }
        },
        "f42d758f0c3442bfbb1931a42dc09b97": {
          "model_module": "@jupyter-widgets/controls",
          "model_name": "DescriptionStyleModel",
          "model_module_version": "1.5.0",
          "state": {
            "_model_module": "@jupyter-widgets/controls",
            "_model_module_version": "1.5.0",
            "_model_name": "DescriptionStyleModel",
            "_view_count": null,
            "_view_module": "@jupyter-widgets/base",
            "_view_module_version": "1.2.0",
            "_view_name": "StyleView",
            "description_width": ""
          }
        },
        "399526274adb4c698644c831e0a262d0": {
          "model_module": "@jupyter-widgets/controls",
          "model_name": "HBoxModel",
          "model_module_version": "1.5.0",
          "state": {
            "_dom_classes": [],
            "_model_module": "@jupyter-widgets/controls",
            "_model_module_version": "1.5.0",
            "_model_name": "HBoxModel",
            "_view_count": null,
            "_view_module": "@jupyter-widgets/controls",
            "_view_module_version": "1.5.0",
            "_view_name": "HBoxView",
            "box_style": "",
            "children": [
              "IPY_MODEL_be185f54963c4259b54f23728427618f",
              "IPY_MODEL_2ecfe9f0b3fc422b86e813e4676fcad7",
              "IPY_MODEL_1ea692f6bb814f8cb84f7ef1fc1dcef4"
            ],
            "layout": "IPY_MODEL_a5eb6a6256d141a086dfc9c6ec285483"
          }
        },
        "be185f54963c4259b54f23728427618f": {
          "model_module": "@jupyter-widgets/controls",
          "model_name": "HTMLModel",
          "model_module_version": "1.5.0",
          "state": {
            "_dom_classes": [],
            "_model_module": "@jupyter-widgets/controls",
            "_model_module_version": "1.5.0",
            "_model_name": "HTMLModel",
            "_view_count": null,
            "_view_module": "@jupyter-widgets/controls",
            "_view_module_version": "1.5.0",
            "_view_name": "HTMLView",
            "description": "",
            "description_tooltip": null,
            "layout": "IPY_MODEL_5d47d2c8ca0d455d871c3a3bd571379e",
            "placeholder": "​",
            "style": "IPY_MODEL_645f9c4daa894afa93bb8d5108f5f182",
            "value": "Downloading model.safetensors: 100%"
          }
        },
        "2ecfe9f0b3fc422b86e813e4676fcad7": {
          "model_module": "@jupyter-widgets/controls",
          "model_name": "FloatProgressModel",
          "model_module_version": "1.5.0",
          "state": {
            "_dom_classes": [],
            "_model_module": "@jupyter-widgets/controls",
            "_model_module_version": "1.5.0",
            "_model_name": "FloatProgressModel",
            "_view_count": null,
            "_view_module": "@jupyter-widgets/controls",
            "_view_module_version": "1.5.0",
            "_view_name": "ProgressView",
            "bar_style": "success",
            "description": "",
            "description_tooltip": null,
            "layout": "IPY_MODEL_4bef9b37001c40f588abd483d3943eda",
            "max": 478594030,
            "min": 0,
            "orientation": "horizontal",
            "style": "IPY_MODEL_df0fe9a2b9bd494a93be604935bb3eae",
            "value": 478594030
          }
        },
        "1ea692f6bb814f8cb84f7ef1fc1dcef4": {
          "model_module": "@jupyter-widgets/controls",
          "model_name": "HTMLModel",
          "model_module_version": "1.5.0",
          "state": {
            "_dom_classes": [],
            "_model_module": "@jupyter-widgets/controls",
            "_model_module_version": "1.5.0",
            "_model_name": "HTMLModel",
            "_view_count": null,
            "_view_module": "@jupyter-widgets/controls",
            "_view_module_version": "1.5.0",
            "_view_name": "HTMLView",
            "description": "",
            "description_tooltip": null,
            "layout": "IPY_MODEL_5358f608cb6149eea74947b92c8cdaec",
            "placeholder": "​",
            "style": "IPY_MODEL_5f604b5f140e4368aefb96800dff402c",
            "value": " 479M/479M [00:13&lt;00:00, 35.7MB/s]"
          }
        },
        "a5eb6a6256d141a086dfc9c6ec285483": {
          "model_module": "@jupyter-widgets/base",
          "model_name": "LayoutModel",
          "model_module_version": "1.2.0",
          "state": {
            "_model_module": "@jupyter-widgets/base",
            "_model_module_version": "1.2.0",
            "_model_name": "LayoutModel",
            "_view_count": null,
            "_view_module": "@jupyter-widgets/base",
            "_view_module_version": "1.2.0",
            "_view_name": "LayoutView",
            "align_content": null,
            "align_items": null,
            "align_self": null,
            "border": null,
            "bottom": null,
            "display": null,
            "flex": null,
            "flex_flow": null,
            "grid_area": null,
            "grid_auto_columns": null,
            "grid_auto_flow": null,
            "grid_auto_rows": null,
            "grid_column": null,
            "grid_gap": null,
            "grid_row": null,
            "grid_template_areas": null,
            "grid_template_columns": null,
            "grid_template_rows": null,
            "height": null,
            "justify_content": null,
            "justify_items": null,
            "left": null,
            "margin": null,
            "max_height": null,
            "max_width": null,
            "min_height": null,
            "min_width": null,
            "object_fit": null,
            "object_position": null,
            "order": null,
            "overflow": null,
            "overflow_x": null,
            "overflow_y": null,
            "padding": null,
            "right": null,
            "top": null,
            "visibility": null,
            "width": null
          }
        },
        "5d47d2c8ca0d455d871c3a3bd571379e": {
          "model_module": "@jupyter-widgets/base",
          "model_name": "LayoutModel",
          "model_module_version": "1.2.0",
          "state": {
            "_model_module": "@jupyter-widgets/base",
            "_model_module_version": "1.2.0",
            "_model_name": "LayoutModel",
            "_view_count": null,
            "_view_module": "@jupyter-widgets/base",
            "_view_module_version": "1.2.0",
            "_view_name": "LayoutView",
            "align_content": null,
            "align_items": null,
            "align_self": null,
            "border": null,
            "bottom": null,
            "display": null,
            "flex": null,
            "flex_flow": null,
            "grid_area": null,
            "grid_auto_columns": null,
            "grid_auto_flow": null,
            "grid_auto_rows": null,
            "grid_column": null,
            "grid_gap": null,
            "grid_row": null,
            "grid_template_areas": null,
            "grid_template_columns": null,
            "grid_template_rows": null,
            "height": null,
            "justify_content": null,
            "justify_items": null,
            "left": null,
            "margin": null,
            "max_height": null,
            "max_width": null,
            "min_height": null,
            "min_width": null,
            "object_fit": null,
            "object_position": null,
            "order": null,
            "overflow": null,
            "overflow_x": null,
            "overflow_y": null,
            "padding": null,
            "right": null,
            "top": null,
            "visibility": null,
            "width": null
          }
        },
        "645f9c4daa894afa93bb8d5108f5f182": {
          "model_module": "@jupyter-widgets/controls",
          "model_name": "DescriptionStyleModel",
          "model_module_version": "1.5.0",
          "state": {
            "_model_module": "@jupyter-widgets/controls",
            "_model_module_version": "1.5.0",
            "_model_name": "DescriptionStyleModel",
            "_view_count": null,
            "_view_module": "@jupyter-widgets/base",
            "_view_module_version": "1.2.0",
            "_view_name": "StyleView",
            "description_width": ""
          }
        },
        "4bef9b37001c40f588abd483d3943eda": {
          "model_module": "@jupyter-widgets/base",
          "model_name": "LayoutModel",
          "model_module_version": "1.2.0",
          "state": {
            "_model_module": "@jupyter-widgets/base",
            "_model_module_version": "1.2.0",
            "_model_name": "LayoutModel",
            "_view_count": null,
            "_view_module": "@jupyter-widgets/base",
            "_view_module_version": "1.2.0",
            "_view_name": "LayoutView",
            "align_content": null,
            "align_items": null,
            "align_self": null,
            "border": null,
            "bottom": null,
            "display": null,
            "flex": null,
            "flex_flow": null,
            "grid_area": null,
            "grid_auto_columns": null,
            "grid_auto_flow": null,
            "grid_auto_rows": null,
            "grid_column": null,
            "grid_gap": null,
            "grid_row": null,
            "grid_template_areas": null,
            "grid_template_columns": null,
            "grid_template_rows": null,
            "height": null,
            "justify_content": null,
            "justify_items": null,
            "left": null,
            "margin": null,
            "max_height": null,
            "max_width": null,
            "min_height": null,
            "min_width": null,
            "object_fit": null,
            "object_position": null,
            "order": null,
            "overflow": null,
            "overflow_x": null,
            "overflow_y": null,
            "padding": null,
            "right": null,
            "top": null,
            "visibility": null,
            "width": null
          }
        },
        "df0fe9a2b9bd494a93be604935bb3eae": {
          "model_module": "@jupyter-widgets/controls",
          "model_name": "ProgressStyleModel",
          "model_module_version": "1.5.0",
          "state": {
            "_model_module": "@jupyter-widgets/controls",
            "_model_module_version": "1.5.0",
            "_model_name": "ProgressStyleModel",
            "_view_count": null,
            "_view_module": "@jupyter-widgets/base",
            "_view_module_version": "1.2.0",
            "_view_name": "StyleView",
            "bar_color": null,
            "description_width": ""
          }
        },
        "5358f608cb6149eea74947b92c8cdaec": {
          "model_module": "@jupyter-widgets/base",
          "model_name": "LayoutModel",
          "model_module_version": "1.2.0",
          "state": {
            "_model_module": "@jupyter-widgets/base",
            "_model_module_version": "1.2.0",
            "_model_name": "LayoutModel",
            "_view_count": null,
            "_view_module": "@jupyter-widgets/base",
            "_view_module_version": "1.2.0",
            "_view_name": "LayoutView",
            "align_content": null,
            "align_items": null,
            "align_self": null,
            "border": null,
            "bottom": null,
            "display": null,
            "flex": null,
            "flex_flow": null,
            "grid_area": null,
            "grid_auto_columns": null,
            "grid_auto_flow": null,
            "grid_auto_rows": null,
            "grid_column": null,
            "grid_gap": null,
            "grid_row": null,
            "grid_template_areas": null,
            "grid_template_columns": null,
            "grid_template_rows": null,
            "height": null,
            "justify_content": null,
            "justify_items": null,
            "left": null,
            "margin": null,
            "max_height": null,
            "max_width": null,
            "min_height": null,
            "min_width": null,
            "object_fit": null,
            "object_position": null,
            "order": null,
            "overflow": null,
            "overflow_x": null,
            "overflow_y": null,
            "padding": null,
            "right": null,
            "top": null,
            "visibility": null,
            "width": null
          }
        },
        "5f604b5f140e4368aefb96800dff402c": {
          "model_module": "@jupyter-widgets/controls",
          "model_name": "DescriptionStyleModel",
          "model_module_version": "1.5.0",
          "state": {
            "_model_module": "@jupyter-widgets/controls",
            "_model_module_version": "1.5.0",
            "_model_name": "DescriptionStyleModel",
            "_view_count": null,
            "_view_module": "@jupyter-widgets/base",
            "_view_module_version": "1.2.0",
            "_view_name": "StyleView",
            "description_width": ""
          }
        }
      }
    }
  },
  "cells": [
    {
      "cell_type": "code",
      "source": [
        "!nvidia-smi"
      ],
      "metadata": {
        "colab": {
          "base_uri": "https://localhost:8080/"
        },
        "id": "us38JgdMsEp5",
        "outputId": "9cf5b8a3-39e5-491d-9778-6087c04ffd79"
      },
      "execution_count": 1,
      "outputs": [
        {
          "output_type": "stream",
          "name": "stdout",
          "text": [
            "Thu Aug 31 06:16:24 2023       \n",
            "+-----------------------------------------------------------------------------+\n",
            "| NVIDIA-SMI 525.105.17   Driver Version: 525.105.17   CUDA Version: 12.0     |\n",
            "|-------------------------------+----------------------+----------------------+\n",
            "| GPU  Name        Persistence-M| Bus-Id        Disp.A | Volatile Uncorr. ECC |\n",
            "| Fan  Temp  Perf  Pwr:Usage/Cap|         Memory-Usage | GPU-Util  Compute M. |\n",
            "|                               |                      |               MIG M. |\n",
            "|===============================+======================+======================|\n",
            "|   0  Tesla V100-SXM2...  Off  | 00000000:00:04.0 Off |                    0 |\n",
            "| N/A   31C    P0    24W / 300W |      0MiB / 16384MiB |      0%      Default |\n",
            "|                               |                      |                  N/A |\n",
            "+-------------------------------+----------------------+----------------------+\n",
            "                                                                               \n",
            "+-----------------------------------------------------------------------------+\n",
            "| Processes:                                                                  |\n",
            "|  GPU   GI   CI        PID   Type   Process name                  GPU Memory |\n",
            "|        ID   ID                                                   Usage      |\n",
            "|=============================================================================|\n",
            "|  No running processes found                                                 |\n",
            "+-----------------------------------------------------------------------------+\n"
          ]
        }
      ]
    },
    {
      "cell_type": "code",
      "execution_count": 2,
      "metadata": {
        "colab": {
          "base_uri": "https://localhost:8080/"
        },
        "id": "_0nJF_KZq3V7",
        "outputId": "f17e87ee-ba8e-4d93-8f0d-1f2acd45c2be"
      },
      "outputs": [
        {
          "output_type": "stream",
          "name": "stdout",
          "text": [
            "Mounted at /content/drive\n"
          ]
        }
      ],
      "source": [
        "!pip install -U -qq gdown kaggle\n",
        "\n",
        "from google.colab import drive\n",
        "drive.mount('/content/drive')\n",
        "\n",
        "import os\n",
        "!mkdir -p ~/.kaggle/ && cp /content/drive/MyDrive/all_AI_code/kaggle.json ~/.kaggle/ && chmod 600 ~/.kaggle/kaggle.json"
      ]
    },
    {
      "cell_type": "code",
      "source": [
        "import os\n",
        "import json\n",
        "import zipfile\n",
        "import shutil\n",
        "import random\n",
        "import time\n",
        "from pathlib import Path\n",
        "from glob import glob\n",
        "import cv2\n",
        "import PIL\n",
        "from PIL import Image, ImageOps\n",
        "from tqdm import tqdm\n",
        "import pandas as pd\n",
        "import numpy as np\n",
        "\n",
        "import matplotlib.pyplot as plt\n",
        "import seaborn as sns"
      ],
      "metadata": {
        "id": "_aYx-0F8rwuI"
      },
      "execution_count": 3,
      "outputs": []
    },
    {
      "cell_type": "code",
      "source": [
        "# download competition dataset\n",
        "!kaggle competitions download -c hackathon-online-2022-image-processing\n",
        "!mkdir /content/data/\n",
        "\n",
        "with zipfile.ZipFile(\"./hackathon-online-2022-image-processing.zip\", \"r\") as zip_ref:\n",
        "    print(\"Unzipping main_zip data...\")\n",
        "    zip_ref.extractall()\n",
        "\n",
        "with zipfile.ZipFile(\"./IM_Test.zipfile\", \"r\") as zip_ref:\n",
        "    zip_ref.extractall(\"/content/data/\")\n",
        "\n",
        "with zipfile.ZipFile(\"./IM_Train.zipfile\", \"r\") as zip_ref:\n",
        "    zip_ref.extractall(\"/content/data/\")\n",
        "\n",
        "with zipfile.ZipFile(\"/content/data/IM_Train.zipfile\", \"r\") as zip_ref:\n",
        "    zip_ref.extractall(\"/content/data/\")\n",
        "\n",
        "with zipfile.ZipFile(\"/content/data/IM_Test.zipfile\", \"r\") as zip_ref:\n",
        "    zip_ref.extractall(\"/content/data/\")\n",
        "\n",
        "!rm /content/IM_Test.zipfile /content/IM_Train.zipfile /content/hackathon-online-2022-image-processing.zip /content/data/IM_Test.zipfile /content/data/IM_Train.zipfile"
      ],
      "metadata": {
        "colab": {
          "base_uri": "https://localhost:8080/"
        },
        "id": "welzsp8bsXNp",
        "outputId": "c827ad74-05d1-4aed-d26d-1ce3127cc135"
      },
      "execution_count": 4,
      "outputs": [
        {
          "output_type": "stream",
          "name": "stdout",
          "text": [
            "Downloading hackathon-online-2022-image-processing.zip to /content\n",
            "100% 415M/415M [00:14<00:00, 39.6MB/s]\n",
            "100% 415M/415M [00:14<00:00, 29.2MB/s]\n",
            "Unzipping main_zip data...\n"
          ]
        }
      ]
    },
    {
      "cell_type": "code",
      "source": [
        "ls = glob(\"/content/data/train/*/*.png\")\n",
        "df_data = pd.DataFrame(ls,columns=['path'])\n",
        "df_data['label'] = df_data['path'].map(lambda x: int(x.split('/')[-2]))\n",
        "df_data.tail(3)"
      ],
      "metadata": {
        "colab": {
          "base_uri": "https://localhost:8080/",
          "height": 143
        },
        "id": "en_9f0UVssJ9",
        "outputId": "58f47a9a-0d4f-4511-d618-02d5ed6cbf0b"
      },
      "execution_count": 5,
      "outputs": [
        {
          "output_type": "execute_result",
          "data": {
            "text/plain": [
              "                                    path  label\n",
              "73254  /content/data/train/4/12929.0.png      4\n",
              "73255  /content/data/train/4/19088.0.png      4\n",
              "73256  /content/data/train/4/17147.0.png      4"
            ],
            "text/html": [
              "\n",
              "  <div id=\"df-94181964-51de-44ce-ae03-f9ccd1964846\" class=\"colab-df-container\">\n",
              "    <div>\n",
              "<style scoped>\n",
              "    .dataframe tbody tr th:only-of-type {\n",
              "        vertical-align: middle;\n",
              "    }\n",
              "\n",
              "    .dataframe tbody tr th {\n",
              "        vertical-align: top;\n",
              "    }\n",
              "\n",
              "    .dataframe thead th {\n",
              "        text-align: right;\n",
              "    }\n",
              "</style>\n",
              "<table border=\"1\" class=\"dataframe\">\n",
              "  <thead>\n",
              "    <tr style=\"text-align: right;\">\n",
              "      <th></th>\n",
              "      <th>path</th>\n",
              "      <th>label</th>\n",
              "    </tr>\n",
              "  </thead>\n",
              "  <tbody>\n",
              "    <tr>\n",
              "      <th>73254</th>\n",
              "      <td>/content/data/train/4/12929.0.png</td>\n",
              "      <td>4</td>\n",
              "    </tr>\n",
              "    <tr>\n",
              "      <th>73255</th>\n",
              "      <td>/content/data/train/4/19088.0.png</td>\n",
              "      <td>4</td>\n",
              "    </tr>\n",
              "    <tr>\n",
              "      <th>73256</th>\n",
              "      <td>/content/data/train/4/17147.0.png</td>\n",
              "      <td>4</td>\n",
              "    </tr>\n",
              "  </tbody>\n",
              "</table>\n",
              "</div>\n",
              "    <div class=\"colab-df-buttons\">\n",
              "\n",
              "  <div class=\"colab-df-container\">\n",
              "    <button class=\"colab-df-convert\" onclick=\"convertToInteractive('df-94181964-51de-44ce-ae03-f9ccd1964846')\"\n",
              "            title=\"Convert this dataframe to an interactive table.\"\n",
              "            style=\"display:none;\">\n",
              "\n",
              "  <svg xmlns=\"http://www.w3.org/2000/svg\" height=\"24px\" viewBox=\"0 -960 960 960\">\n",
              "    <path d=\"M120-120v-720h720v720H120Zm60-500h600v-160H180v160Zm220 220h160v-160H400v160Zm0 220h160v-160H400v160ZM180-400h160v-160H180v160Zm440 0h160v-160H620v160ZM180-180h160v-160H180v160Zm440 0h160v-160H620v160Z\"/>\n",
              "  </svg>\n",
              "    </button>\n",
              "\n",
              "  <style>\n",
              "    .colab-df-container {\n",
              "      display:flex;\n",
              "      gap: 12px;\n",
              "    }\n",
              "\n",
              "    .colab-df-convert {\n",
              "      background-color: #E8F0FE;\n",
              "      border: none;\n",
              "      border-radius: 50%;\n",
              "      cursor: pointer;\n",
              "      display: none;\n",
              "      fill: #1967D2;\n",
              "      height: 32px;\n",
              "      padding: 0 0 0 0;\n",
              "      width: 32px;\n",
              "    }\n",
              "\n",
              "    .colab-df-convert:hover {\n",
              "      background-color: #E2EBFA;\n",
              "      box-shadow: 0px 1px 2px rgba(60, 64, 67, 0.3), 0px 1px 3px 1px rgba(60, 64, 67, 0.15);\n",
              "      fill: #174EA6;\n",
              "    }\n",
              "\n",
              "    .colab-df-buttons div {\n",
              "      margin-bottom: 4px;\n",
              "    }\n",
              "\n",
              "    [theme=dark] .colab-df-convert {\n",
              "      background-color: #3B4455;\n",
              "      fill: #D2E3FC;\n",
              "    }\n",
              "\n",
              "    [theme=dark] .colab-df-convert:hover {\n",
              "      background-color: #434B5C;\n",
              "      box-shadow: 0px 1px 3px 1px rgba(0, 0, 0, 0.15);\n",
              "      filter: drop-shadow(0px 1px 2px rgba(0, 0, 0, 0.3));\n",
              "      fill: #FFFFFF;\n",
              "    }\n",
              "  </style>\n",
              "\n",
              "    <script>\n",
              "      const buttonEl =\n",
              "        document.querySelector('#df-94181964-51de-44ce-ae03-f9ccd1964846 button.colab-df-convert');\n",
              "      buttonEl.style.display =\n",
              "        google.colab.kernel.accessAllowed ? 'block' : 'none';\n",
              "\n",
              "      async function convertToInteractive(key) {\n",
              "        const element = document.querySelector('#df-94181964-51de-44ce-ae03-f9ccd1964846');\n",
              "        const dataTable =\n",
              "          await google.colab.kernel.invokeFunction('convertToInteractive',\n",
              "                                                    [key], {});\n",
              "        if (!dataTable) return;\n",
              "\n",
              "        const docLinkHtml = 'Like what you see? Visit the ' +\n",
              "          '<a target=\"_blank\" href=https://colab.research.google.com/notebooks/data_table.ipynb>data table notebook</a>'\n",
              "          + ' to learn more about interactive tables.';\n",
              "        element.innerHTML = '';\n",
              "        dataTable['output_type'] = 'display_data';\n",
              "        await google.colab.output.renderOutput(dataTable, element);\n",
              "        const docLink = document.createElement('div');\n",
              "        docLink.innerHTML = docLinkHtml;\n",
              "        element.appendChild(docLink);\n",
              "      }\n",
              "    </script>\n",
              "  </div>\n",
              "\n",
              "    </div>\n",
              "  </div>\n"
            ]
          },
          "metadata": {},
          "execution_count": 5
        }
      ]
    },
    {
      "cell_type": "code",
      "source": [
        "# test data\n",
        "!mkdir /content/data/croped_images/\n",
        "\n",
        "with open(\"/content/data/IM_Test/IM_Test.json\") as json_file:\n",
        "    datas = json.load(json_file)\n",
        "\n",
        "df_json = pd.json_normalize(datas)\n",
        "\n",
        "df_test = pd.DataFrame(columns=['path', 'filename', 'imageid_boxid'])\n",
        "\n",
        "for i in tqdm(df_json.index, desc='Croping...'):\n",
        "    pth = f\"/content/data/IM_Test/IM_Test/{i+1}.png\"\n",
        "    img = cv2.imread(pth)\n",
        "\n",
        "    for j in df_json['bboxes'][i]:\n",
        "        name = str(i+1) +'_' + str(j['bbox_id'])\n",
        "        des_pth = f\"/content/data/croped_images/{name}.png\"\n",
        "        df_test.loc[len(df_test)] = [des_pth, df_json['filename'][i], name]\n",
        "\n",
        "        crop_img = img[j['y1']:j['y2'], j['x1']:j['x2']]\n",
        "        cv2.imwrite(str(des_pth), crop_img)"
      ],
      "metadata": {
        "colab": {
          "base_uri": "https://localhost:8080/"
        },
        "id": "FAzs2cNps3-2",
        "outputId": "89bd3257-71de-401f-c8a5-af28424b2276"
      },
      "execution_count": 6,
      "outputs": [
        {
          "output_type": "stream",
          "name": "stderr",
          "text": [
            "Croping...: 100%|██████████| 13068/13068 [01:06<00:00, 196.64it/s]\n"
          ]
        }
      ]
    },
    {
      "cell_type": "code",
      "source": [
        "# Install Timm (Need to restart the runtime after finish install )\n",
        "!pip -qq install git+https://github.com/rwightman/pytorch-image-models.git\n",
        "!pip -qq install lightning transformers datasets evaluate pillow==9.2.0 GPUtil"
      ],
      "metadata": {
        "colab": {
          "base_uri": "https://localhost:8080/"
        },
        "id": "MWtjgQtjtsPl",
        "outputId": "7dea1252-98cc-4e44-cbbf-d4e5809b8245"
      },
      "execution_count": 7,
      "outputs": [
        {
          "output_type": "stream",
          "name": "stdout",
          "text": [
            "  Installing build dependencies ... \u001b[?25l\u001b[?25hdone\n",
            "  Getting requirements to build wheel ... \u001b[?25l\u001b[?25hdone\n",
            "  Preparing metadata (pyproject.toml) ... \u001b[?25l\u001b[?25hdone\n",
            "\u001b[2K     \u001b[90m━━━━━━━━━━━━━━━━━━━━━━━━━━━━━━━━━━━━━━━\u001b[0m \u001b[32m268.8/268.8 kB\u001b[0m \u001b[31m5.2 MB/s\u001b[0m eta \u001b[36m0:00:00\u001b[0m\n",
            "\u001b[2K     \u001b[90m━━━━━━━━━━━━━━━━━━━━━━━━━━━━━━━━━━━━━━━━\u001b[0m \u001b[32m1.3/1.3 MB\u001b[0m \u001b[31m10.8 MB/s\u001b[0m eta \u001b[36m0:00:00\u001b[0m\n",
            "\u001b[?25h  Building wheel for timm (pyproject.toml) ... \u001b[?25l\u001b[?25hdone\n",
            "\u001b[2K     \u001b[90m━━━━━━━━━━━━━━━━━━━━━━━━━━━━━━━━━━━━━━━━\u001b[0m \u001b[32m1.9/1.9 MB\u001b[0m \u001b[31m11.9 MB/s\u001b[0m eta \u001b[36m0:00:00\u001b[0m\n",
            "\u001b[2K     \u001b[90m━━━━━━━━━━━━━━━━━━━━━━━━━━━━━━━━━━━━━━━━\u001b[0m \u001b[32m7.5/7.5 MB\u001b[0m \u001b[31m50.4 MB/s\u001b[0m eta \u001b[36m0:00:00\u001b[0m\n",
            "\u001b[2K     \u001b[90m━━━━━━━━━━━━━━━━━━━━━━━━━━━━━━━━━━━━━━\u001b[0m \u001b[32m519.3/519.3 kB\u001b[0m \u001b[31m45.7 MB/s\u001b[0m eta \u001b[36m0:00:00\u001b[0m\n",
            "\u001b[2K     \u001b[90m━━━━━━━━━━━━━━━━━━━━━━━━━━━━━━━━━━━━━━━━\u001b[0m \u001b[32m81.4/81.4 kB\u001b[0m \u001b[31m12.0 MB/s\u001b[0m eta \u001b[36m0:00:00\u001b[0m\n",
            "\u001b[2K     \u001b[90m━━━━━━━━━━━━━━━━━━━━━━━━━━━━━━━━━━━━━━━━\u001b[0m \u001b[32m3.2/3.2 MB\u001b[0m \u001b[31m84.8 MB/s\u001b[0m eta \u001b[36m0:00:00\u001b[0m\n",
            "\u001b[?25h  Preparing metadata (setup.py) ... \u001b[?25l\u001b[?25hdone\n",
            "\u001b[2K     \u001b[90m━━━━━━━━━━━━━━━━━━━━━━━━━━━━━━━━━━━━━━━━\u001b[0m \u001b[32m66.4/66.4 kB\u001b[0m \u001b[31m9.9 MB/s\u001b[0m eta \u001b[36m0:00:00\u001b[0m\n",
            "\u001b[2K     \u001b[90m━━━━━━━━━━━━━━━━━━━━━━━━━━━━━━━━━━━━━━━━\u001b[0m \u001b[32m70.7/70.7 kB\u001b[0m \u001b[31m10.0 MB/s\u001b[0m eta \u001b[36m0:00:00\u001b[0m\n",
            "\u001b[2K     \u001b[90m━━━━━━━━━━━━━━━━━━━━━━━━━━━━━━━━━━━━━━━━\u001b[0m \u001b[32m66.2/66.2 kB\u001b[0m \u001b[31m9.4 MB/s\u001b[0m eta \u001b[36m0:00:00\u001b[0m\n",
            "\u001b[2K     \u001b[90m━━━━━━━━━━━━━━━━━━━━━━━━━━━━━━━━━━━━━━\u001b[0m \u001b[32m596.7/596.7 kB\u001b[0m \u001b[31m60.0 MB/s\u001b[0m eta \u001b[36m0:00:00\u001b[0m\n",
            "\u001b[2K     \u001b[90m━━━━━━━━━━━━━━━━━━━━━━━━━━━━━━━━━━━━━━\u001b[0m \u001b[32m370.9/370.9 kB\u001b[0m \u001b[31m42.5 MB/s\u001b[0m eta \u001b[36m0:00:00\u001b[0m\n",
            "\u001b[2K     \u001b[90m━━━━━━━━━━━━━━━━━━━━━━━━━━━━━━━━━━━━━━━━\u001b[0m \u001b[32m45.7/45.7 kB\u001b[0m \u001b[31m6.5 MB/s\u001b[0m eta \u001b[36m0:00:00\u001b[0m\n",
            "\u001b[2K     \u001b[90m━━━━━━━━━━━━━━━━━━━━━━━━━━━━━━━━━━━━━━━━\u001b[0m \u001b[32m69.9/69.9 kB\u001b[0m \u001b[31m9.2 MB/s\u001b[0m eta \u001b[36m0:00:00\u001b[0m\n",
            "\u001b[2K     \u001b[90m━━━━━━━━━━━━━━━━━━━━━━━━━━━━━━━━━━━━━━\u001b[0m \u001b[32m763.4/763.4 kB\u001b[0m \u001b[31m54.8 MB/s\u001b[0m eta \u001b[36m0:00:00\u001b[0m\n",
            "\u001b[2K     \u001b[90m━━━━━━━━━━━━━━━━━━━━━━━━━━━━━━━━━━━━━━━━\u001b[0m \u001b[32m59.5/59.5 kB\u001b[0m \u001b[31m7.6 MB/s\u001b[0m eta \u001b[36m0:00:00\u001b[0m\n",
            "\u001b[2K     \u001b[90m━━━━━━━━━━━━━━━━━━━━━━━━━━━━━━━━━━━━━━\u001b[0m \u001b[32m129.9/129.9 kB\u001b[0m \u001b[31m17.4 MB/s\u001b[0m eta \u001b[36m0:00:00\u001b[0m\n",
            "\u001b[2K     \u001b[90m━━━━━━━━━━━━━━━━━━━━━━━━━━━━━━━━━━━━━━\u001b[0m \u001b[32m727.0/727.0 kB\u001b[0m \u001b[31m62.2 MB/s\u001b[0m eta \u001b[36m0:00:00\u001b[0m\n",
            "\u001b[2K     \u001b[90m━━━━━━━━━━━━━━━━━━━━━━━━━━━━━━━━━━━━━━━━\u001b[0m \u001b[32m7.8/7.8 MB\u001b[0m \u001b[31m105.6 MB/s\u001b[0m eta \u001b[36m0:00:00\u001b[0m\n",
            "\u001b[2K     \u001b[90m━━━━━━━━━━━━━━━━━━━━━━━━━━━━━━━━━━━━━━\u001b[0m \u001b[32m115.3/115.3 kB\u001b[0m \u001b[31m16.2 MB/s\u001b[0m eta \u001b[36m0:00:00\u001b[0m\n",
            "\u001b[2K     \u001b[90m━━━━━━━━━━━━━━━━━━━━━━━━━━━━━━━━━━━━━━\u001b[0m \u001b[32m194.1/194.1 kB\u001b[0m \u001b[31m25.3 MB/s\u001b[0m eta \u001b[36m0:00:00\u001b[0m\n",
            "\u001b[2K     \u001b[90m━━━━━━━━━━━━━━━━━━━━━━━━━━━━━━━━━━━━━━\u001b[0m \u001b[32m134.8/134.8 kB\u001b[0m \u001b[31m19.6 MB/s\u001b[0m eta \u001b[36m0:00:00\u001b[0m\n",
            "\u001b[2K     \u001b[90m━━━━━━━━━━━━━━━━━━━━━━━━━━━━━━━━━━━━━━━━\u001b[0m \u001b[32m67.0/67.0 kB\u001b[0m \u001b[31m8.6 MB/s\u001b[0m eta \u001b[36m0:00:00\u001b[0m\n",
            "\u001b[2K     \u001b[90m━━━━━━━━━━━━━━━━━━━━━━━━━━━━━━━━━━━━━━━━\u001b[0m \u001b[32m58.4/58.4 kB\u001b[0m \u001b[31m7.6 MB/s\u001b[0m eta \u001b[36m0:00:00\u001b[0m\n",
            "\u001b[2K     \u001b[90m━━━━━━━━━━━━━━━━━━━━━━━━━━━━━━━━━━━━━━━━\u001b[0m \u001b[32m1.9/1.9 MB\u001b[0m \u001b[31m75.2 MB/s\u001b[0m eta \u001b[36m0:00:00\u001b[0m\n",
            "\u001b[2K     \u001b[90m━━━━━━━━━━━━━━━━━━━━━━━━━━━━━━━━━━━━━━━━\u001b[0m \u001b[32m58.3/58.3 kB\u001b[0m \u001b[31m4.2 MB/s\u001b[0m eta \u001b[36m0:00:00\u001b[0m\n",
            "\u001b[?25h  Building wheel for GPUtil (setup.py) ... \u001b[?25l\u001b[?25hdone\n"
          ]
        }
      ]
    },
    {
      "cell_type": "code",
      "source": [
        "import GPUtil\n",
        "\n",
        "def free_gpu_cache():\n",
        "    print(\"Initial GPU Usage\")\n",
        "    GPUtil.showUtilization()\n",
        "    torch.cuda.empty_cache()\n",
        "    print(\"GPU Usage after emptying the cache\")\n",
        "    GPUtil.showUtilization()"
      ],
      "metadata": {
        "id": "Y5pvccM573LT"
      },
      "execution_count": 8,
      "outputs": []
    },
    {
      "cell_type": "code",
      "source": [
        "import torch\n",
        "import torch.nn as nn\n",
        "import torchvision.transforms as T\n",
        "from torch.utils.data import DataLoader, Dataset\n",
        "\n",
        "# Pytorch Image model (TIMM) library: a library for state-of-the-art image classification\n",
        "import timm\n",
        "import timm.optim\n",
        "import timm.scheduler\n",
        "\n",
        "from sklearn.metrics import confusion_matrix\n",
        "from sklearn.metrics import ConfusionMatrixDisplay\n",
        "from sklearn.metrics import classification_report\n",
        "\n",
        "import evaluate\n",
        "from lightning.fabric import Fabric"
      ],
      "metadata": {
        "id": "KZO1yoF0rwA-"
      },
      "execution_count": 10,
      "outputs": []
    },
    {
      "cell_type": "code",
      "source": [
        "# Transform image data based on ImageNet's mean and std\n",
        "# mean = torch.tensor([0.48145466, 0.4578275, 0.40821073])\n",
        "# std = torch.tensor([0.26862954, 0.26130258, 0.27577711])\n",
        "mean = torch.tensor([0.5, 0.5, 0.5])\n",
        "std = torch.tensor([0.5, 0.5, 0.5])\n",
        "data_transforms = {\n",
        "    \"train\": T.Compose([\n",
        "        T.RandomInvert(),\n",
        "        T.RandomEqualize(),\n",
        "        T.Resize((224, 224)),\n",
        "        T.ToTensor(),\n",
        "        T.Normalize(mean=mean, std=std)\n",
        "    ]),\n",
        "    \"valid\": T.Compose([\n",
        "        T.Resize((224, 224)),\n",
        "        T.ToTensor(),\n",
        "        T.Normalize(mean=mean, std=std)\n",
        "    ]),\n",
        "    \"test\": T.Compose([\n",
        "        T.Resize((224, 224)),\n",
        "        T.ToTensor(),\n",
        "        T.Normalize(mean=mean, std=std)\n",
        "    ])\n",
        "}"
      ],
      "metadata": {
        "id": "Yy3PNBMHt9km"
      },
      "execution_count": 11,
      "outputs": []
    },
    {
      "cell_type": "code",
      "source": [
        "class trainDataset(Dataset):\n",
        "    def __init__(self, df=df_data, transforms=data_transforms, mode='train', sample=4000, fullData=False):\n",
        "      self.IMG_SIZE = 224\n",
        "      self.mode = mode\n",
        "      if fullData:\n",
        "        self.data = df_data.sample(frac=1).reset_index(drop=True)\n",
        "        self.transforms = transforms[mode]\n",
        "      else:\n",
        "        self.data_0 = df[df['label']==0].sample(sample)\n",
        "        self.data_1 = df[df['label']==1].sample(sample)\n",
        "        self.data_2 = df[df['label']==2].sample(sample)\n",
        "        self.data_3 = df[df['label']==3].sample(sample)\n",
        "        self.data_4 = df[df['label']==4].sample(sample)\n",
        "        self.data_5 = df[df['label']==5].sample(sample)\n",
        "        self.data_6 = df[df['label']==6].sample(sample)\n",
        "        self.data_7 = df[df['label']==7].sample(sample)\n",
        "        self.data_8 = df[df['label']==8].sample(sample)\n",
        "        self.data_9 = df[df['label']==9].sample(sample)\n",
        "        self.data = pd.concat([self.data_0,self.data_1,self.data_2,self.data_3,self.data_4,\n",
        "                               self.data_5,self.data_6,self.data_7,self.data_8,self.data_9\n",
        "                               ],).sample(frac=1).reset_index(drop=True)\n",
        "        self.transforms = transforms[mode]\n",
        "\n",
        "    def __len__(self):\n",
        "        return len(self.data)\n",
        "\n",
        "    def preprocess(self, path):\n",
        "      if self.mode == 'train':\n",
        "        img = cv2.imread(path)\n",
        "        h,w,_ = img.shape\n",
        "        if w>h:\n",
        "          img = img[:,int(w/2-h/2):int(w/2+h/2)]\n",
        "        image_rgb = cv2.cvtColor(img, cv2.COLOR_BGR2RGB)\n",
        "        img = Image.fromarray(image_rgb)\n",
        "        img = ImageOps.contain(img, (self.IMG_SIZE, self.IMG_SIZE), Image.Resampling.LANCZOS)\n",
        "        img = ImageOps.autocontrast(img)\n",
        "        img = ImageOps.grayscale(img)\n",
        "        img = ImageOps.autocontrast(img)\n",
        "        if random.randint(0,1)==1:\n",
        "          img = ImageOps.invert(img)\n",
        "          img = ImageOps.pad(img, (self.IMG_SIZE, self.IMG_SIZE),method=Image.Resampling.LANCZOS, centering=(0,0))\n",
        "        else:\n",
        "          img = ImageOps.pad(img, (self.IMG_SIZE, self.IMG_SIZE),method=Image.Resampling.LANCZOS, centering=(0.5,0.5))\n",
        "      else:\n",
        "        img = Image.open(path)\n",
        "        img = ImageOps.contain(img, (self.IMG_SIZE, self.IMG_SIZE), Image.Resampling.LANCZOS)\n",
        "        img = ImageOps.autocontrast(img)\n",
        "        img = ImageOps.grayscale(img)\n",
        "        img = ImageOps.autocontrast(img)\n",
        "        img = ImageOps.pad(img, (self.IMG_SIZE, self.IMG_SIZE), centering=(0, 0))\n",
        "      return img.convert(\"RGB\")\n",
        "\n",
        "    def __getitem__(self, index):\n",
        "        path = self.data['path'][index]\n",
        "        label = int(path.split('/')[-2])\n",
        "        img = self.preprocess(path)\n",
        "        img = self.transforms(img)\n",
        "        return img, label"
      ],
      "metadata": {
        "id": "P4-tGZu2t9h4"
      },
      "execution_count": 12,
      "outputs": []
    },
    {
      "cell_type": "code",
      "source": [
        "train_dataset = trainDataset(df_data,transforms=data_transforms, mode='train', sample=4000, fullData=False)\n",
        "print(\"total images :\",len(train_dataset))\n",
        "# plt.figure(figsize=(15, 7))\n",
        "# for i in range(50):\n",
        "#     img = train_dataset[i][0]\n",
        "#     ax = plt.subplot(5, 10, i + 1)\n",
        "#     plt.imshow(np.array(img), cmap='gray')\n",
        "#     plt.title(str(train_dataset[i][1]))\n",
        "#     plt.axis('off')\n",
        "# plt.show()"
      ],
      "metadata": {
        "colab": {
          "base_uri": "https://localhost:8080/"
        },
        "id": "09PVNgAbt9fJ",
        "outputId": "c49d5f3f-d32b-4378-9ff5-e911900ea60d"
      },
      "execution_count": 13,
      "outputs": [
        {
          "output_type": "stream",
          "name": "stdout",
          "text": [
            "total images : 40000\n"
          ]
        }
      ]
    },
    {
      "cell_type": "code",
      "source": [
        "torch.set_float32_matmul_precision('high')\n",
        "fabric = Fabric(accelerator=\"cuda\") # , precision=\"16-mixed\"\n",
        "fabric.launch()\n",
        "\n",
        "device = torch.device(\"cuda\" if torch.cuda.is_available() else \"cpu\")\n",
        "device"
      ],
      "metadata": {
        "colab": {
          "base_uri": "https://localhost:8080/"
        },
        "id": "4ihkMiFvt9bm",
        "outputId": "05322d38-2697-49da-b31c-f1a5d064b918"
      },
      "execution_count": 14,
      "outputs": [
        {
          "output_type": "execute_result",
          "data": {
            "text/plain": [
              "device(type='cuda')"
            ]
          },
          "metadata": {},
          "execution_count": 14
        }
      ]
    },
    {
      "cell_type": "code",
      "source": [
        "free_gpu_cache()"
      ],
      "metadata": {
        "colab": {
          "base_uri": "https://localhost:8080/"
        },
        "id": "4gfFmoSBt9Q3",
        "outputId": "39c5a039-a4eb-49a2-973f-9360d1657290"
      },
      "execution_count": 15,
      "outputs": [
        {
          "output_type": "stream",
          "name": "stdout",
          "text": [
            "Initial GPU Usage\n",
            "| ID | GPU | MEM |\n",
            "------------------\n",
            "|  0 |  0% |  0% |\n",
            "GPU Usage after emptying the cache\n",
            "| ID | GPU | MEM |\n",
            "------------------\n",
            "|  0 |  0% |  0% |\n"
          ]
        }
      ]
    },
    {
      "cell_type": "code",
      "source": [
        "timm.list_models('*maxvit*224*', pretrained=True)"
      ],
      "metadata": {
        "colab": {
          "base_uri": "https://localhost:8080/"
        },
        "id": "r4ezQqdu78Dr",
        "outputId": "14911c24-47ca-48f3-caea-188081ac8242"
      },
      "execution_count": 16,
      "outputs": [
        {
          "output_type": "execute_result",
          "data": {
            "text/plain": [
              "['maxvit_base_tf_224.in1k',\n",
              " 'maxvit_base_tf_224.in21k',\n",
              " 'maxvit_large_tf_224.in1k',\n",
              " 'maxvit_large_tf_224.in21k',\n",
              " 'maxvit_rmlp_base_rw_224.sw_in12k',\n",
              " 'maxvit_rmlp_base_rw_224.sw_in12k_ft_in1k',\n",
              " 'maxvit_rmlp_small_rw_224.sw_in1k',\n",
              " 'maxvit_small_tf_224.in1k',\n",
              " 'maxvit_tiny_rw_224.sw_in1k',\n",
              " 'maxvit_tiny_tf_224.in1k',\n",
              " 'maxvit_xlarge_tf_224.in21k']"
            ]
          },
          "metadata": {},
          "execution_count": 16
        }
      ]
    },
    {
      "cell_type": "code",
      "source": [
        "# # Install torchinfo if it's not available, import it if it is\n",
        "# try:\n",
        "#     import torchinfo\n",
        "# except:\n",
        "#     !pip install torchinfo\n",
        "#     import torchinfo\n",
        "\n",
        "# from torchinfo import summary\n",
        "# model_name = \"tf_efficientnet_b7.ns_jft_in1k\"\n",
        "# model = timm.create_model(model_name, pretrained=True, num_classes=10)\n",
        "# summary(model, input_size=[32, 3, 244, 244]) # do a test pass through of an example input size"
      ],
      "metadata": {
        "id": "Iwtr_r1k_mt7"
      },
      "execution_count": 13,
      "outputs": []
    },
    {
      "cell_type": "code",
      "source": [
        "def epoch_time(start_time, end_time):\n",
        "    elapsed_time = end_time - start_time\n",
        "    elapsed_mins = int(elapsed_time / 60)\n",
        "    elapsed_secs = int(elapsed_time - (elapsed_mins * 60))\n",
        "    return elapsed_mins, elapsed_secs"
      ],
      "metadata": {
        "id": "suo3rZD278t-"
      },
      "execution_count": 17,
      "outputs": []
    },
    {
      "cell_type": "code",
      "source": [
        "all_eval_scores = []\n",
        "\n",
        "# Cross Validation Configuration\n",
        "metric = evaluate.load(\"f1\")\n",
        "train_batch_size = 13\n",
        "eval_batch_size = 13\n",
        "num_accumulate = 5\n",
        "num_epochs = 10\n",
        "\n",
        "# Load Model\n",
        "model_name = \"maxvit_base_tf_224.in1k\"\n",
        "model = timm.create_model(model_name, pretrained=True, num_classes=10)\n",
        "\n",
        "# Load Optimizer and Scheduler\n",
        "criterion = nn.CrossEntropyLoss()\n",
        "optimizer = timm.optim.create_optimizer_v2(model, opt=\"AdamW\", lr=5e-4)\n",
        "# optimizer = timm.optim.Lookahead(optimizer, alpha=0.5, k=6)    # update the slow weight every k steps\n",
        "                                                                # update the optimizer by combine slow weight and fast weight * alpha\n",
        "\n",
        "model, optimizer = fabric.setup(model, optimizer)\n",
        "\n",
        "scheduler = timm.scheduler.create_scheduler_v2(optimizer, num_epochs=num_epochs)[0]\n",
        "\n",
        "info = {\n",
        "        \"metric_train\": [],\n",
        "        \"metric_val\": [],\n",
        "        \"train_loss\": [],\n",
        "        \"val_loss\": [],\n",
        "        \"best_metric_val\": -999,\n",
        "        \"best_val_loss\": 999,\n",
        "    }\n",
        "for epoch in range(num_epochs):\n",
        "    train_loss_epoch = []\n",
        "    val_loss_epoch = []\n",
        "\n",
        "    train_preds = []\n",
        "    train_targets = []\n",
        "\n",
        "    val_preds = []\n",
        "    val_targets = []\n",
        "\n",
        "    if epoch==9:\n",
        "      train_dataset = trainDataset(df_data,transforms = data_transforms, mode = 'train', sample = 4000, fullData = True)\n",
        "    else:\n",
        "      train_dataset = trainDataset(df_data,transforms = data_transforms, mode = 'train', sample = 2000, fullData = False)\n",
        "\n",
        "    valid_dataset = trainDataset(df_data,transforms = data_transforms, mode = 'valid', sample = 400)\n",
        "\n",
        "    train_dataloader = DataLoader(train_dataset, batch_size=train_batch_size, shuffle=True, num_workers=2, pin_memory=True)\n",
        "    val_dataloader = DataLoader(valid_dataset, batch_size=eval_batch_size, shuffle=False, num_workers=2, pin_memory=True)\n",
        "\n",
        "\n",
        "    train_dataloader = fabric.setup_dataloaders(train_dataloader)\n",
        "    val_dataloader = fabric.setup_dataloaders(val_dataloader)\n",
        "    num_updates = epoch * len(train_dataloader)\n",
        "\n",
        "    ### === Train Loop === ###\n",
        "    ## Time\n",
        "    start_time = time.monotonic()\n",
        "\n",
        "    model.train()\n",
        "    for idx, batch in enumerate(tqdm(train_dataloader, desc=f\"Epoch: {epoch+1} | Training \", leave=False)):\n",
        "        inputs, targets = batch\n",
        "        outputs = model(inputs.to(device))\n",
        "        loss = criterion(outputs, targets.to(device))\n",
        "\n",
        "        fabric.backward(loss)\n",
        "\n",
        "        # === Gradient Accumulation === #\n",
        "        if ((idx + 1) % num_accumulate == 0) or (idx + 1 == len(train_dataloader)):\n",
        "            optimizer.step()\n",
        "            scheduler.step_update(num_updates=num_updates)\n",
        "            optimizer.zero_grad()\n",
        "        # ============================= #\n",
        "\n",
        "        train_loss_epoch.append(loss.item())\n",
        "        train_preds += outputs.argmax(-1).detach().cpu().tolist()\n",
        "        train_targets += targets.tolist()\n",
        "    ### ==================== ###\n",
        "\n",
        "    # optimizer.sync_lookahead()              # Sync slow weight and fast weight\n",
        "    scheduler.step(epoch + 1)\n",
        "\n",
        "    ### === Evaluation Loop === ###\n",
        "    if epoch%3==0 or epoch>9:\n",
        "      model.eval()\n",
        "      with torch.no_grad():\n",
        "          for batch in tqdm(val_dataloader, desc=f\"Epoch: {epoch+1} | Evaluating \", leave=False):\n",
        "              inputs, targets = batch\n",
        "              outputs = model(inputs.to(device))\n",
        "              loss = criterion(outputs, targets.to(device))\n",
        "\n",
        "              # Log Values\n",
        "              val_loss_epoch.append(loss.item())\n",
        "              val_preds += outputs.argmax(-1).detach().cpu().tolist()\n",
        "              val_targets += targets.tolist()\n",
        "\n",
        "      metric_val = metric.compute(predictions=val_preds, references=val_targets, average='macro')['f1']\n",
        "      info[\"metric_val\"].append(metric_val)\n",
        "      info[\"val_loss\"].append(np.average(val_loss_epoch))\n",
        "\n",
        "    else:\n",
        "      metric_val = 0.0\n",
        "      val_loss_epoch = 0.0\n",
        "\n",
        "    ### ======================= ###\n",
        "    ## Time train finish\n",
        "    end_time = time.monotonic()\n",
        "\n",
        "    # Log Data\n",
        "    metric_train = metric.compute(predictions=train_preds, references=train_targets, average='macro')['f1']\n",
        "    info[\"metric_train\"].append(metric_train)\n",
        "    info[\"train_loss\"].append(np.average(train_loss_epoch))\n",
        "\n",
        "\n",
        "    if metric_val > info[\"best_metric_val\"]:\n",
        "    # if info[\"val_loss\"][-1] < info[\"best_val_loss\"]:\n",
        "        # print(\"New Best Score!\")\n",
        "        # print(\"New Best Val Loss\")\n",
        "        info[\"best_metric_val\"] = metric_val\n",
        "        # info[\"best_val_loss\"] = info[\"val_loss\"][-1]\n",
        "        torch.save(model, f\"/content/maxvit_base_tf_224.pt\")\n",
        "\n",
        "    epoch_mins, epoch_secs = epoch_time(start_time, end_time)\n",
        "    str_time = f\"{epoch_mins}m {epoch_secs}s\"\n",
        "    print(f\"Epoch: {epoch+1} : {str_time.ljust(7)} | Loss : train {np.average(train_loss_epoch):.4f} valid {np.average(val_loss_epoch):.4f} | f1-macro : train {metric_train*100:.2f}% valid {metric_val*100:.2f}%\")\n",
        "    # print(info)\n",
        "    # save all best metric val\n",
        "    # all_eval_scores.append(info[\"best_metric_val\"])"
      ],
      "metadata": {
        "colab": {
          "base_uri": "https://localhost:8080/",
          "height": 260,
          "referenced_widgets": [
            "dcaa46fc876c4212921e799df01ef5f2",
            "3707c24323144094975e31ec0ff7e560",
            "3c8561e7c6d94d899b0970ec675e7ce5",
            "15573d081659448ca72cbd24c42129a0",
            "1104b20e6d094eb88f75c77074f2a5fa",
            "572afd70aa664c55bc18fe0d32c7abd9",
            "b00aeaea43af484b9fc2920ddf83377e",
            "eec51d39aa5b478591e130b4ea068c2a",
            "07f9fcc33d554e55b19f74ff65feb724",
            "cf9fec7fd44a48588a97dd0a4e7a9a4a",
            "f42d758f0c3442bfbb1931a42dc09b97",
            "399526274adb4c698644c831e0a262d0",
            "be185f54963c4259b54f23728427618f",
            "2ecfe9f0b3fc422b86e813e4676fcad7",
            "1ea692f6bb814f8cb84f7ef1fc1dcef4",
            "a5eb6a6256d141a086dfc9c6ec285483",
            "5d47d2c8ca0d455d871c3a3bd571379e",
            "645f9c4daa894afa93bb8d5108f5f182",
            "4bef9b37001c40f588abd483d3943eda",
            "df0fe9a2b9bd494a93be604935bb3eae",
            "5358f608cb6149eea74947b92c8cdaec",
            "5f604b5f140e4368aefb96800dff402c"
          ]
        },
        "id": "j0YRiZVb8dAE",
        "outputId": "9688dbb3-adc8-4ec2-a334-d5748b5b3386"
      },
      "execution_count": 18,
      "outputs": [
        {
          "output_type": "display_data",
          "data": {
            "text/plain": [
              "Downloading builder script:   0%|          | 0.00/6.77k [00:00<?, ?B/s]"
            ],
            "application/vnd.jupyter.widget-view+json": {
              "version_major": 2,
              "version_minor": 0,
              "model_id": "dcaa46fc876c4212921e799df01ef5f2"
            }
          },
          "metadata": {}
        },
        {
          "output_type": "display_data",
          "data": {
            "text/plain": [
              "Downloading model.safetensors:   0%|          | 0.00/479M [00:00<?, ?B/s]"
            ],
            "application/vnd.jupyter.widget-view+json": {
              "version_major": 2,
              "version_minor": 0,
              "model_id": "399526274adb4c698644c831e0a262d0"
            }
          },
          "metadata": {}
        },
        {
          "output_type": "stream",
          "name": "stderr",
          "text": []
        },
        {
          "output_type": "stream",
          "name": "stdout",
          "text": [
            "Epoch: 1 : 9m 55s  | Loss : train 0.5023 valid 0.3009 | f1-macro : train 84.63% valid 90.77%\n"
          ]
        },
        {
          "output_type": "stream",
          "name": "stderr",
          "text": []
        },
        {
          "output_type": "stream",
          "name": "stdout",
          "text": [
            "Epoch: 2 : 9m 10s  | Loss : train 0.2752 valid 0.0000 | f1-macro : train 92.04% valid 0.00%\n"
          ]
        },
        {
          "output_type": "stream",
          "name": "stderr",
          "text": []
        },
        {
          "output_type": "stream",
          "name": "stdout",
          "text": [
            "Epoch: 3 : 9m 12s  | Loss : train 0.2309 valid 0.0000 | f1-macro : train 93.16% valid 0.00%\n"
          ]
        },
        {
          "output_type": "stream",
          "name": "stderr",
          "text": []
        },
        {
          "output_type": "stream",
          "name": "stdout",
          "text": [
            "Epoch: 4 : 10m 4s  | Loss : train 0.2043 valid 0.2176 | f1-macro : train 94.10% valid 93.62%\n"
          ]
        },
        {
          "output_type": "stream",
          "name": "stderr",
          "text": []
        },
        {
          "output_type": "stream",
          "name": "stdout",
          "text": [
            "Epoch: 5 : 9m 39s  | Loss : train 0.1771 valid 0.0000 | f1-macro : train 94.93% valid 0.00%\n"
          ]
        },
        {
          "output_type": "stream",
          "name": "stderr",
          "text": []
        },
        {
          "output_type": "stream",
          "name": "stdout",
          "text": [
            "Epoch: 6 : 9m 12s  | Loss : train 0.1513 valid 0.0000 | f1-macro : train 95.73% valid 0.00%\n"
          ]
        },
        {
          "output_type": "stream",
          "name": "stderr",
          "text": []
        },
        {
          "output_type": "stream",
          "name": "stdout",
          "text": [
            "Epoch: 7 : 9m 52s  | Loss : train 0.1249 valid 0.1313 | f1-macro : train 96.62% valid 96.14%\n"
          ]
        },
        {
          "output_type": "stream",
          "name": "stderr",
          "text": []
        },
        {
          "output_type": "stream",
          "name": "stdout",
          "text": [
            "Epoch: 8 : 9m 12s  | Loss : train 0.1023 valid 0.0000 | f1-macro : train 97.26% valid 0.00%\n"
          ]
        },
        {
          "output_type": "stream",
          "name": "stderr",
          "text": []
        },
        {
          "output_type": "stream",
          "name": "stdout",
          "text": [
            "Epoch: 9 : 9m 13s  | Loss : train 0.0897 valid 0.0000 | f1-macro : train 97.66% valid 0.00%\n"
          ]
        },
        {
          "output_type": "stream",
          "name": "stderr",
          "text": []
        },
        {
          "output_type": "stream",
          "name": "stdout",
          "text": [
            "Epoch: 10 : 36m 6s  | Loss : train 0.0836 valid 0.1464 | f1-macro : train 97.94% valid 96.08%\n"
          ]
        }
      ]
    },
    {
      "cell_type": "code",
      "source": [
        "# save latest trained model at epoch 30\n",
        "torch.save(model, f\"/content/maxvit_base_tf_224_ep10.pt\")"
      ],
      "metadata": {
        "id": "ItO2VekM-Maz"
      },
      "execution_count": 19,
      "outputs": []
    },
    {
      "cell_type": "code",
      "source": [
        "# prediction report base on balance classes at model ep30\n",
        "fake_test_dataset = trainDataset(df_data,transforms = data_transforms, mode = 'test', sample = 600)\n",
        "fake_test_dataloader = DataLoader(fake_test_dataset, batch_size=eval_batch_size, shuffle=False, num_workers=2, pin_memory=True)\n",
        "loaded_model = torch.load(f\"/content/maxvit_base_tf_224_ep10.pt\")\n",
        "ls_ans_fake_test = []\n",
        "ls_target =[]\n",
        "\n",
        "loaded_model.eval()\n",
        "with torch.no_grad():\n",
        "    for batch in tqdm(fake_test_dataloader, desc=\"Evaluating \", leave=False):\n",
        "        inputs, targets = batch\n",
        "        outputs = loaded_model(inputs.to(device))\n",
        "        y_pred = torch.argmax(torch.softmax(outputs, dim=1), dim=1)\n",
        "        ls_ans_fake_test.extend(y_pred.tolist())\n",
        "        ls_target.extend(targets.tolist())\n",
        "print(classification_report(ls_ans_fake_test, ls_target))"
      ],
      "metadata": {
        "colab": {
          "base_uri": "https://localhost:8080/"
        },
        "id": "4mwkfGGG-MX0",
        "outputId": "aab1781e-8ec6-4e6a-c142-ddf69b8cd7aa"
      },
      "execution_count": 20,
      "outputs": [
        {
          "output_type": "stream",
          "name": "stderr",
          "text": [
            "                                                              "
          ]
        },
        {
          "output_type": "stream",
          "name": "stdout",
          "text": [
            "              precision    recall  f1-score   support\n",
            "\n",
            "           0       0.98      0.97      0.97       608\n",
            "           1       0.96      0.92      0.94       630\n",
            "           2       0.98      0.94      0.96       627\n",
            "           3       0.95      0.95      0.95       600\n",
            "           4       0.95      0.98      0.97       580\n",
            "           5       0.94      0.98      0.96       576\n",
            "           6       0.95      0.99      0.97       581\n",
            "           7       0.95      0.99      0.97       580\n",
            "           8       0.97      0.95      0.96       611\n",
            "           9       0.97      0.96      0.97       607\n",
            "\n",
            "    accuracy                           0.96      6000\n",
            "   macro avg       0.96      0.96      0.96      6000\n",
            "weighted avg       0.96      0.96      0.96      6000\n",
            "\n"
          ]
        },
        {
          "output_type": "stream",
          "name": "stderr",
          "text": [
            "\r"
          ]
        }
      ]
    },
    {
      "cell_type": "code",
      "source": [
        "cm = confusion_matrix(ls_ans_fake_test, ls_target)\n",
        "cm_display = ConfusionMatrixDisplay(cm).plot()"
      ],
      "metadata": {
        "colab": {
          "base_uri": "https://localhost:8080/",
          "height": 449
        },
        "id": "GfekQTZC-MTe",
        "outputId": "b5bed903-0589-40b6-a65c-b4470b3abb0d"
      },
      "execution_count": 21,
      "outputs": [
        {
          "output_type": "display_data",
          "data": {
            "text/plain": [
              "<Figure size 640x480 with 2 Axes>"
            ],
            "image/png": "[encoded data removed]"
          },
          "metadata": {}
        }
      ]
    },
    {
      "cell_type": "code",
      "source": [
        "# prediction report base on balance classes at model best\n",
        "loaded_model = torch.load(f\"/content/maxvit_base_tf_224.pt\")\n",
        "ls_ans_fake_test = []\n",
        "ls_target =[]\n",
        "\n",
        "loaded_model.eval()\n",
        "with torch.no_grad():\n",
        "    for batch in tqdm(fake_test_dataloader, desc=\"Evaluating \", leave=False):\n",
        "        inputs, targets = batch\n",
        "        outputs = loaded_model(inputs.to(device))\n",
        "        y_pred = torch.argmax(torch.softmax(outputs, dim=1), dim=1)\n",
        "        ls_ans_fake_test.extend(y_pred.tolist())\n",
        "        ls_target.extend(targets.tolist())\n",
        "print(classification_report(ls_ans_fake_test, ls_target))"
      ],
      "metadata": {
        "colab": {
          "base_uri": "https://localhost:8080/"
        },
        "id": "0xE_z9A9-MMI",
        "outputId": "2575be35-4fc0-4170-bad1-da084d2fc993"
      },
      "execution_count": 22,
      "outputs": [
        {
          "output_type": "stream",
          "name": "stderr",
          "text": []
        },
        {
          "output_type": "stream",
          "name": "stdout",
          "text": [
            "              precision    recall  f1-score   support\n",
            "\n",
            "           0       0.96      0.98      0.97       588\n",
            "           1       0.95      0.89      0.92       643\n",
            "           2       0.97      0.95      0.96       611\n",
            "           3       0.95      0.96      0.95       594\n",
            "           4       0.94      0.98      0.96       579\n",
            "           5       0.94      0.95      0.95       591\n",
            "           6       0.96      0.96      0.96       598\n",
            "           7       0.94      0.98      0.96       575\n",
            "           8       0.97      0.91      0.94       639\n",
            "           9       0.94      0.97      0.95       582\n",
            "\n",
            "    accuracy                           0.95      6000\n",
            "   macro avg       0.95      0.95      0.95      6000\n",
            "weighted avg       0.95      0.95      0.95      6000\n",
            "\n"
          ]
        }
      ]
    },
    {
      "cell_type": "code",
      "source": [
        "cm = confusion_matrix(ls_ans_fake_test, ls_target)\n",
        "cm_display = ConfusionMatrixDisplay(cm).plot()"
      ],
      "metadata": {
        "colab": {
          "base_uri": "https://localhost:8080/",
          "height": 449
        },
        "id": "ksqsSp90aL29",
        "outputId": "24c9c092-be9c-43f7-9977-78e60e27bc2b"
      },
      "execution_count": 23,
      "outputs": [
        {
          "output_type": "display_data",
          "data": {
            "text/plain": [
              "<Figure size 640x480 with 2 Axes>"
            ],
            "image/png": "[encoded data removed]"
          },
          "metadata": {}
        }
      ]
    },
    {
      "cell_type": "code",
      "source": [
        "class testDataset(Dataset):\n",
        "    def __init__(self, df = df_data, transforms = data_transforms, mode = 'test'):\n",
        "        self.data = df\n",
        "        self.transforms = transforms[mode]\n",
        "        self.IMG_SIZE = 224\n",
        "\n",
        "    def __len__(self):\n",
        "        return len(self.data)\n",
        "\n",
        "    def preprocess(self, path):\n",
        "        img = Image.open(path)\n",
        "        img = ImageOps.contain(img, (self.IMG_SIZE, self.IMG_SIZE), Image.Resampling.LANCZOS)\n",
        "        img = ImageOps.autocontrast(img)\n",
        "        img = ImageOps.grayscale(img)\n",
        "        img = ImageOps.autocontrast(img)\n",
        "        img = ImageOps.pad(img, (self.IMG_SIZE, self.IMG_SIZE), centering=(0, 0))\n",
        "        return img.convert(\"RGB\")\n",
        "\n",
        "    def __getitem__(self, index):\n",
        "        path = self.data['path'][index]\n",
        "        img = self.preprocess(path)\n",
        "        img = self.transforms(img)\n",
        "        return img\n",
        "\n",
        "test_dataset = testDataset(df_test, transforms=data_transforms, mode='test')\n",
        "test_dataloader = DataLoader(test_dataset, batch_size=eval_batch_size, shuffle=False, num_workers=2, pin_memory=True)"
      ],
      "metadata": {
        "id": "Y6nPWVAgaL0e"
      },
      "execution_count": 24,
      "outputs": []
    },
    {
      "cell_type": "code",
      "source": [
        "ls_ans = []\n",
        "\n",
        "loaded_model = torch.load(f\"/content/maxvit_base_tf_224_ep10.pt\")\n",
        "loaded_model.eval()\n",
        "with torch.no_grad():\n",
        "    for batch in tqdm(test_dataloader, desc=\"Evaluating \", leave=False):\n",
        "        inputs = batch\n",
        "        outputs = loaded_model(inputs.to(device))\n",
        "        y_pred = torch.argmax(torch.softmax(outputs, dim=1), dim=1)\n",
        "        ls_ans.extend(y_pred.tolist())"
      ],
      "metadata": {
        "colab": {
          "base_uri": "https://localhost:8080/"
        },
        "id": "KQhCWMWqaLx4",
        "outputId": "d8ab9eab-7cb3-42bc-d73c-0a50f3cccfd3"
      },
      "execution_count": 26,
      "outputs": [
        {
          "output_type": "stream",
          "name": "stderr",
          "text": []
        }
      ]
    },
    {
      "cell_type": "code",
      "source": [
        "ls_ans[:15]"
      ],
      "metadata": {
        "colab": {
          "base_uri": "https://localhost:8080/"
        },
        "id": "yh7ozpEVaLvB",
        "outputId": "4dd7ad1e-abd9-4b9e-cb49-ce07109b5e2d"
      },
      "execution_count": 27,
      "outputs": [
        {
          "output_type": "execute_result",
          "data": {
            "text/plain": [
              "[5, 2, 1, 0, 6, 1, 9, 1, 1, 8, 3, 6, 5, 1, 4]"
            ]
          },
          "metadata": {},
          "execution_count": 27
        }
      ]
    },
    {
      "cell_type": "code",
      "source": [
        "df_test"
      ],
      "metadata": {
        "colab": {
          "base_uri": "https://localhost:8080/",
          "height": 424
        },
        "id": "cZRRW1VInKur",
        "outputId": "302e6e68-e5ef-498e-873c-12e264433668"
      },
      "execution_count": 25,
      "outputs": [
        {
          "output_type": "execute_result",
          "data": {
            "text/plain": [
              "                                          path   filename imageid_boxid\n",
              "0          /content/data/croped_images/1_0.png      1.png           1_0\n",
              "1          /content/data/croped_images/2_0.png      2.png           2_0\n",
              "2          /content/data/croped_images/2_1.png      2.png           2_1\n",
              "3          /content/data/croped_images/2_2.png      2.png           2_2\n",
              "4          /content/data/croped_images/3_0.png      3.png           3_0\n",
              "...                                        ...        ...           ...\n",
              "26027  /content/data/croped_images/13067_0.png  13067.png       13067_0\n",
              "26028  /content/data/croped_images/13067_1.png  13067.png       13067_1\n",
              "26029  /content/data/croped_images/13067_2.png  13067.png       13067_2\n",
              "26030  /content/data/croped_images/13068_0.png  13068.png       13068_0\n",
              "26031  /content/data/croped_images/13068_1.png  13068.png       13068_1\n",
              "\n",
              "[26032 rows x 3 columns]"
            ],
            "text/html": [
              "\n",
              "  <div id=\"df-6187b46c-0b6e-4120-824c-b26acecef721\" class=\"colab-df-container\">\n",
              "    <div>\n",
              "<style scoped>\n",
              "    .dataframe tbody tr th:only-of-type {\n",
              "        vertical-align: middle;\n",
              "    }\n",
              "\n",
              "    .dataframe tbody tr th {\n",
              "        vertical-align: top;\n",
              "    }\n",
              "\n",
              "    .dataframe thead th {\n",
              "        text-align: right;\n",
              "    }\n",
              "</style>\n",
              "<table border=\"1\" class=\"dataframe\">\n",
              "  <thead>\n",
              "    <tr style=\"text-align: right;\">\n",
              "      <th></th>\n",
              "      <th>path</th>\n",
              "      <th>filename</th>\n",
              "      <th>imageid_boxid</th>\n",
              "    </tr>\n",
              "  </thead>\n",
              "  <tbody>\n",
              "    <tr>\n",
              "      <th>0</th>\n",
              "      <td>/content/data/croped_images/1_0.png</td>\n",
              "      <td>1.png</td>\n",
              "      <td>1_0</td>\n",
              "    </tr>\n",
              "    <tr>\n",
              "      <th>1</th>\n",
              "      <td>/content/data/croped_images/2_0.png</td>\n",
              "      <td>2.png</td>\n",
              "      <td>2_0</td>\n",
              "    </tr>\n",
              "    <tr>\n",
              "      <th>2</th>\n",
              "      <td>/content/data/croped_images/2_1.png</td>\n",
              "      <td>2.png</td>\n",
              "      <td>2_1</td>\n",
              "    </tr>\n",
              "    <tr>\n",
              "      <th>3</th>\n",
              "      <td>/content/data/croped_images/2_2.png</td>\n",
              "      <td>2.png</td>\n",
              "      <td>2_2</td>\n",
              "    </tr>\n",
              "    <tr>\n",
              "      <th>4</th>\n",
              "      <td>/content/data/croped_images/3_0.png</td>\n",
              "      <td>3.png</td>\n",
              "      <td>3_0</td>\n",
              "    </tr>\n",
              "    <tr>\n",
              "      <th>...</th>\n",
              "      <td>...</td>\n",
              "      <td>...</td>\n",
              "      <td>...</td>\n",
              "    </tr>\n",
              "    <tr>\n",
              "      <th>26027</th>\n",
              "      <td>/content/data/croped_images/13067_0.png</td>\n",
              "      <td>13067.png</td>\n",
              "      <td>13067_0</td>\n",
              "    </tr>\n",
              "    <tr>\n",
              "      <th>26028</th>\n",
              "      <td>/content/data/croped_images/13067_1.png</td>\n",
              "      <td>13067.png</td>\n",
              "      <td>13067_1</td>\n",
              "    </tr>\n",
              "    <tr>\n",
              "      <th>26029</th>\n",
              "      <td>/content/data/croped_images/13067_2.png</td>\n",
              "      <td>13067.png</td>\n",
              "      <td>13067_2</td>\n",
              "    </tr>\n",
              "    <tr>\n",
              "      <th>26030</th>\n",
              "      <td>/content/data/croped_images/13068_0.png</td>\n",
              "      <td>13068.png</td>\n",
              "      <td>13068_0</td>\n",
              "    </tr>\n",
              "    <tr>\n",
              "      <th>26031</th>\n",
              "      <td>/content/data/croped_images/13068_1.png</td>\n",
              "      <td>13068.png</td>\n",
              "      <td>13068_1</td>\n",
              "    </tr>\n",
              "  </tbody>\n",
              "</table>\n",
              "<p>26032 rows × 3 columns</p>\n",
              "</div>\n",
              "    <div class=\"colab-df-buttons\">\n",
              "\n",
              "  <div class=\"colab-df-container\">\n",
              "    <button class=\"colab-df-convert\" onclick=\"convertToInteractive('df-6187b46c-0b6e-4120-824c-b26acecef721')\"\n",
              "            title=\"Convert this dataframe to an interactive table.\"\n",
              "            style=\"display:none;\">\n",
              "\n",
              "  <svg xmlns=\"http://www.w3.org/2000/svg\" height=\"24px\" viewBox=\"0 -960 960 960\">\n",
              "    <path d=\"M120-120v-720h720v720H120Zm60-500h600v-160H180v160Zm220 220h160v-160H400v160Zm0 220h160v-160H400v160ZM180-400h160v-160H180v160Zm440 0h160v-160H620v160ZM180-180h160v-160H180v160Zm440 0h160v-160H620v160Z\"/>\n",
              "  </svg>\n",
              "    </button>\n",
              "\n",
              "  <style>\n",
              "    .colab-df-container {\n",
              "      display:flex;\n",
              "      gap: 12px;\n",
              "    }\n",
              "\n",
              "    .colab-df-convert {\n",
              "      background-color: #E8F0FE;\n",
              "      border: none;\n",
              "      border-radius: 50%;\n",
              "      cursor: pointer;\n",
              "      display: none;\n",
              "      fill: #1967D2;\n",
              "      height: 32px;\n",
              "      padding: 0 0 0 0;\n",
              "      width: 32px;\n",
              "    }\n",
              "\n",
              "    .colab-df-convert:hover {\n",
              "      background-color: #E2EBFA;\n",
              "      box-shadow: 0px 1px 2px rgba(60, 64, 67, 0.3), 0px 1px 3px 1px rgba(60, 64, 67, 0.15);\n",
              "      fill: #174EA6;\n",
              "    }\n",
              "\n",
              "    .colab-df-buttons div {\n",
              "      margin-bottom: 4px;\n",
              "    }\n",
              "\n",
              "    [theme=dark] .colab-df-convert {\n",
              "      background-color: #3B4455;\n",
              "      fill: #D2E3FC;\n",
              "    }\n",
              "\n",
              "    [theme=dark] .colab-df-convert:hover {\n",
              "      background-color: #434B5C;\n",
              "      box-shadow: 0px 1px 3px 1px rgba(0, 0, 0, 0.15);\n",
              "      filter: drop-shadow(0px 1px 2px rgba(0, 0, 0, 0.3));\n",
              "      fill: #FFFFFF;\n",
              "    }\n",
              "  </style>\n",
              "\n",
              "    <script>\n",
              "      const buttonEl =\n",
              "        document.querySelector('#df-6187b46c-0b6e-4120-824c-b26acecef721 button.colab-df-convert');\n",
              "      buttonEl.style.display =\n",
              "        google.colab.kernel.accessAllowed ? 'block' : 'none';\n",
              "\n",
              "      async function convertToInteractive(key) {\n",
              "        const element = document.querySelector('#df-6187b46c-0b6e-4120-824c-b26acecef721');\n",
              "        const dataTable =\n",
              "          await google.colab.kernel.invokeFunction('convertToInteractive',\n",
              "                                                    [key], {});\n",
              "        if (!dataTable) return;\n",
              "\n",
              "        const docLinkHtml = 'Like what you see? Visit the ' +\n",
              "          '<a target=\"_blank\" href=https://colab.research.google.com/notebooks/data_table.ipynb>data table notebook</a>'\n",
              "          + ' to learn more about interactive tables.';\n",
              "        element.innerHTML = '';\n",
              "        dataTable['output_type'] = 'display_data';\n",
              "        await google.colab.output.renderOutput(dataTable, element);\n",
              "        const docLink = document.createElement('div');\n",
              "        docLink.innerHTML = docLinkHtml;\n",
              "        element.appendChild(docLink);\n",
              "      }\n",
              "    </script>\n",
              "  </div>\n",
              "\n",
              "\n",
              "<div id=\"df-05f88383-bcb5-4d2c-b385-8067f57769d6\">\n",
              "  <button class=\"colab-df-quickchart\" onclick=\"quickchart('df-05f88383-bcb5-4d2c-b385-8067f57769d6')\"\n",
              "            title=\"Suggest charts.\"\n",
              "            style=\"display:none;\">\n",
              "\n",
              "<svg xmlns=\"http://www.w3.org/2000/svg\" height=\"24px\"viewBox=\"0 0 24 24\"\n",
              "     width=\"24px\">\n",
              "    <g>\n",
              "        <path d=\"M19 3H5c-1.1 0-2 .9-2 2v14c0 1.1.9 2 2 2h14c1.1 0 2-.9 2-2V5c0-1.1-.9-2-2-2zM9 17H7v-7h2v7zm4 0h-2V7h2v10zm4 0h-2v-4h2v4z\"/>\n",
              "    </g>\n",
              "</svg>\n",
              "  </button>\n",
              "\n",
              "<style>\n",
              "  .colab-df-quickchart {\n",
              "    background-color: #E8F0FE;\n",
              "    border: none;\n",
              "    border-radius: 50%;\n",
              "    cursor: pointer;\n",
              "    display: none;\n",
              "    fill: #1967D2;\n",
              "    height: 32px;\n",
              "    padding: 0 0 0 0;\n",
              "    width: 32px;\n",
              "  }\n",
              "\n",
              "  .colab-df-quickchart:hover {\n",
              "    background-color: #E2EBFA;\n",
              "    box-shadow: 0px 1px 2px rgba(60, 64, 67, 0.3), 0px 1px 3px 1px rgba(60, 64, 67, 0.15);\n",
              "    fill: #174EA6;\n",
              "  }\n",
              "\n",
              "  [theme=dark] .colab-df-quickchart {\n",
              "    background-color: #3B4455;\n",
              "    fill: #D2E3FC;\n",
              "  }\n",
              "\n",
              "  [theme=dark] .colab-df-quickchart:hover {\n",
              "    background-color: #434B5C;\n",
              "    box-shadow: 0px 1px 3px 1px rgba(0, 0, 0, 0.15);\n",
              "    filter: drop-shadow(0px 1px 2px rgba(0, 0, 0, 0.3));\n",
              "    fill: #FFFFFF;\n",
              "  }\n",
              "</style>\n",
              "\n",
              "  <script>\n",
              "    async function quickchart(key) {\n",
              "      const charts = await google.colab.kernel.invokeFunction(\n",
              "          'suggestCharts', [key], {});\n",
              "    }\n",
              "    (() => {\n",
              "      let quickchartButtonEl =\n",
              "        document.querySelector('#df-05f88383-bcb5-4d2c-b385-8067f57769d6 button');\n",
              "      quickchartButtonEl.style.display =\n",
              "        google.colab.kernel.accessAllowed ? 'block' : 'none';\n",
              "    })();\n",
              "  </script>\n",
              "</div>\n",
              "    </div>\n",
              "  </div>\n"
            ]
          },
          "metadata": {},
          "execution_count": 25
        }
      ]
    },
    {
      "cell_type": "code",
      "source": [
        "df_submit = pd.read_csv('/content/IM_Submit.csv')\n",
        "df_submit['class'] = ls_ans\n",
        "df_submit"
      ],
      "metadata": {
        "colab": {
          "base_uri": "https://localhost:8080/",
          "height": 424
        },
        "id": "bKsoVFIutdsF",
        "outputId": "c31d52fe-a39d-4515-b095-c3aece76415c"
      },
      "execution_count": 29,
      "outputs": [
        {
          "output_type": "execute_result",
          "data": {
            "text/plain": [
              "      imageid_boxid  class\n",
              "0               1_0      5\n",
              "1               2_0      2\n",
              "2               2_1      1\n",
              "3               2_2      0\n",
              "4               3_0      6\n",
              "...             ...    ...\n",
              "26027       13067_0      2\n",
              "26028       13067_1      2\n",
              "26029       13067_2      7\n",
              "26030       13068_0      6\n",
              "26031       13068_1      7\n",
              "\n",
              "[26032 rows x 2 columns]"
            ],
            "text/html": [
              "\n",
              "  <div id=\"df-29848310-2e19-44b6-8c04-f6f9ec9bee7b\" class=\"colab-df-container\">\n",
              "    <div>\n",
              "<style scoped>\n",
              "    .dataframe tbody tr th:only-of-type {\n",
              "        vertical-align: middle;\n",
              "    }\n",
              "\n",
              "    .dataframe tbody tr th {\n",
              "        vertical-align: top;\n",
              "    }\n",
              "\n",
              "    .dataframe thead th {\n",
              "        text-align: right;\n",
              "    }\n",
              "</style>\n",
              "<table border=\"1\" class=\"dataframe\">\n",
              "  <thead>\n",
              "    <tr style=\"text-align: right;\">\n",
              "      <th></th>\n",
              "      <th>imageid_boxid</th>\n",
              "      <th>class</th>\n",
              "    </tr>\n",
              "  </thead>\n",
              "  <tbody>\n",
              "    <tr>\n",
              "      <th>0</th>\n",
              "      <td>1_0</td>\n",
              "      <td>5</td>\n",
              "    </tr>\n",
              "    <tr>\n",
              "      <th>1</th>\n",
              "      <td>2_0</td>\n",
              "      <td>2</td>\n",
              "    </tr>\n",
              "    <tr>\n",
              "      <th>2</th>\n",
              "      <td>2_1</td>\n",
              "      <td>1</td>\n",
              "    </tr>\n",
              "    <tr>\n",
              "      <th>3</th>\n",
              "      <td>2_2</td>\n",
              "      <td>0</td>\n",
              "    </tr>\n",
              "    <tr>\n",
              "      <th>4</th>\n",
              "      <td>3_0</td>\n",
              "      <td>6</td>\n",
              "    </tr>\n",
              "    <tr>\n",
              "      <th>...</th>\n",
              "      <td>...</td>\n",
              "      <td>...</td>\n",
              "    </tr>\n",
              "    <tr>\n",
              "      <th>26027</th>\n",
              "      <td>13067_0</td>\n",
              "      <td>2</td>\n",
              "    </tr>\n",
              "    <tr>\n",
              "      <th>26028</th>\n",
              "      <td>13067_1</td>\n",
              "      <td>2</td>\n",
              "    </tr>\n",
              "    <tr>\n",
              "      <th>26029</th>\n",
              "      <td>13067_2</td>\n",
              "      <td>7</td>\n",
              "    </tr>\n",
              "    <tr>\n",
              "      <th>26030</th>\n",
              "      <td>13068_0</td>\n",
              "      <td>6</td>\n",
              "    </tr>\n",
              "    <tr>\n",
              "      <th>26031</th>\n",
              "      <td>13068_1</td>\n",
              "      <td>7</td>\n",
              "    </tr>\n",
              "  </tbody>\n",
              "</table>\n",
              "<p>26032 rows × 2 columns</p>\n",
              "</div>\n",
              "    <div class=\"colab-df-buttons\">\n",
              "\n",
              "  <div class=\"colab-df-container\">\n",
              "    <button class=\"colab-df-convert\" onclick=\"convertToInteractive('df-29848310-2e19-44b6-8c04-f6f9ec9bee7b')\"\n",
              "            title=\"Convert this dataframe to an interactive table.\"\n",
              "            style=\"display:none;\">\n",
              "\n",
              "  <svg xmlns=\"http://www.w3.org/2000/svg\" height=\"24px\" viewBox=\"0 -960 960 960\">\n",
              "    <path d=\"M120-120v-720h720v720H120Zm60-500h600v-160H180v160Zm220 220h160v-160H400v160Zm0 220h160v-160H400v160ZM180-400h160v-160H180v160Zm440 0h160v-160H620v160ZM180-180h160v-160H180v160Zm440 0h160v-160H620v160Z\"/>\n",
              "  </svg>\n",
              "    </button>\n",
              "\n",
              "  <style>\n",
              "    .colab-df-container {\n",
              "      display:flex;\n",
              "      gap: 12px;\n",
              "    }\n",
              "\n",
              "    .colab-df-convert {\n",
              "      background-color: #E8F0FE;\n",
              "      border: none;\n",
              "      border-radius: 50%;\n",
              "      cursor: pointer;\n",
              "      display: none;\n",
              "      fill: #1967D2;\n",
              "      height: 32px;\n",
              "      padding: 0 0 0 0;\n",
              "      width: 32px;\n",
              "    }\n",
              "\n",
              "    .colab-df-convert:hover {\n",
              "      background-color: #E2EBFA;\n",
              "      box-shadow: 0px 1px 2px rgba(60, 64, 67, 0.3), 0px 1px 3px 1px rgba(60, 64, 67, 0.15);\n",
              "      fill: #174EA6;\n",
              "    }\n",
              "\n",
              "    .colab-df-buttons div {\n",
              "      margin-bottom: 4px;\n",
              "    }\n",
              "\n",
              "    [theme=dark] .colab-df-convert {\n",
              "      background-color: #3B4455;\n",
              "      fill: #D2E3FC;\n",
              "    }\n",
              "\n",
              "    [theme=dark] .colab-df-convert:hover {\n",
              "      background-color: #434B5C;\n",
              "      box-shadow: 0px 1px 3px 1px rgba(0, 0, 0, 0.15);\n",
              "      filter: drop-shadow(0px 1px 2px rgba(0, 0, 0, 0.3));\n",
              "      fill: #FFFFFF;\n",
              "    }\n",
              "  </style>\n",
              "\n",
              "    <script>\n",
              "      const buttonEl =\n",
              "        document.querySelector('#df-29848310-2e19-44b6-8c04-f6f9ec9bee7b button.colab-df-convert');\n",
              "      buttonEl.style.display =\n",
              "        google.colab.kernel.accessAllowed ? 'block' : 'none';\n",
              "\n",
              "      async function convertToInteractive(key) {\n",
              "        const element = document.querySelector('#df-29848310-2e19-44b6-8c04-f6f9ec9bee7b');\n",
              "        const dataTable =\n",
              "          await google.colab.kernel.invokeFunction('convertToInteractive',\n",
              "                                                    [key], {});\n",
              "        if (!dataTable) return;\n",
              "\n",
              "        const docLinkHtml = 'Like what you see? Visit the ' +\n",
              "          '<a target=\"_blank\" href=https://colab.research.google.com/notebooks/data_table.ipynb>data table notebook</a>'\n",
              "          + ' to learn more about interactive tables.';\n",
              "        element.innerHTML = '';\n",
              "        dataTable['output_type'] = 'display_data';\n",
              "        await google.colab.output.renderOutput(dataTable, element);\n",
              "        const docLink = document.createElement('div');\n",
              "        docLink.innerHTML = docLinkHtml;\n",
              "        element.appendChild(docLink);\n",
              "      }\n",
              "    </script>\n",
              "  </div>\n",
              "\n",
              "\n",
              "<div id=\"df-739f3059-c0f9-44e7-98e7-a4de1dc0cf37\">\n",
              "  <button class=\"colab-df-quickchart\" onclick=\"quickchart('df-739f3059-c0f9-44e7-98e7-a4de1dc0cf37')\"\n",
              "            title=\"Suggest charts.\"\n",
              "            style=\"display:none;\">\n",
              "\n",
              "<svg xmlns=\"http://www.w3.org/2000/svg\" height=\"24px\"viewBox=\"0 0 24 24\"\n",
              "     width=\"24px\">\n",
              "    <g>\n",
              "        <path d=\"M19 3H5c-1.1 0-2 .9-2 2v14c0 1.1.9 2 2 2h14c1.1 0 2-.9 2-2V5c0-1.1-.9-2-2-2zM9 17H7v-7h2v7zm4 0h-2V7h2v10zm4 0h-2v-4h2v4z\"/>\n",
              "    </g>\n",
              "</svg>\n",
              "  </button>\n",
              "\n",
              "<style>\n",
              "  .colab-df-quickchart {\n",
              "    background-color: #E8F0FE;\n",
              "    border: none;\n",
              "    border-radius: 50%;\n",
              "    cursor: pointer;\n",
              "    display: none;\n",
              "    fill: #1967D2;\n",
              "    height: 32px;\n",
              "    padding: 0 0 0 0;\n",
              "    width: 32px;\n",
              "  }\n",
              "\n",
              "  .colab-df-quickchart:hover {\n",
              "    background-color: #E2EBFA;\n",
              "    box-shadow: 0px 1px 2px rgba(60, 64, 67, 0.3), 0px 1px 3px 1px rgba(60, 64, 67, 0.15);\n",
              "    fill: #174EA6;\n",
              "  }\n",
              "\n",
              "  [theme=dark] .colab-df-quickchart {\n",
              "    background-color: #3B4455;\n",
              "    fill: #D2E3FC;\n",
              "  }\n",
              "\n",
              "  [theme=dark] .colab-df-quickchart:hover {\n",
              "    background-color: #434B5C;\n",
              "    box-shadow: 0px 1px 3px 1px rgba(0, 0, 0, 0.15);\n",
              "    filter: drop-shadow(0px 1px 2px rgba(0, 0, 0, 0.3));\n",
              "    fill: #FFFFFF;\n",
              "  }\n",
              "</style>\n",
              "\n",
              "  <script>\n",
              "    async function quickchart(key) {\n",
              "      const charts = await google.colab.kernel.invokeFunction(\n",
              "          'suggestCharts', [key], {});\n",
              "    }\n",
              "    (() => {\n",
              "      let quickchartButtonEl =\n",
              "        document.querySelector('#df-739f3059-c0f9-44e7-98e7-a4de1dc0cf37 button');\n",
              "      quickchartButtonEl.style.display =\n",
              "        google.colab.kernel.accessAllowed ? 'block' : 'none';\n",
              "    })();\n",
              "  </script>\n",
              "</div>\n",
              "    </div>\n",
              "  </div>\n"
            ]
          },
          "metadata": {},
          "execution_count": 29
        }
      ]
    },
    {
      "cell_type": "code",
      "source": [
        "df = df_submit.sample(50)\n",
        "ls_name = df_submit['imageid_boxid'].tolist()\n",
        "ls_lable = df_submit['class'].tolist()\n",
        "plt.figure(figsize=(15, 7))\n",
        "for i in range(50):\n",
        "  ax = plt.subplot(5, 10, i + 1)\n",
        "  img = cv2.imread('/content/data/croped_images/'+ls_name[i]+'.png')\n",
        "  # h,w,_ = img.shape\n",
        "  # if w>h:\n",
        "  #   img = img[:,int(w/2-h/2):int(w/2+h/2)]\n",
        "  plt.imshow(img)\n",
        "  plt.title(str(ls_lable[i]))\n",
        "  plt.axis('off')"
      ],
      "metadata": {
        "colab": {
          "base_uri": "https://localhost:8080/",
          "height": 598
        },
        "id": "ZjeAIyB6vDRZ",
        "outputId": "51adf4d2-123f-4fa0-c8d1-b01f6da267d6"
      },
      "execution_count": 34,
      "outputs": [
        {
          "output_type": "display_data",
          "data": {
            "text/plain": [
              "<Figure size 1500x700 with 50 Axes>"
            ],
            "image/png": "[encoded data removed]"
          },
          "metadata": {}
        }
      ]
    },
    {
      "cell_type": "code",
      "source": [
        "# maxvit_base_tf_224_ep10\n",
        "df_submit['class'].value_counts()"
      ],
      "metadata": {
        "colab": {
          "base_uri": "https://localhost:8080/"
        },
        "id": "n1ezk3niu0Ou",
        "outputId": "4531bc14-93d9-4d2a-a289-ddcf02df823e"
      },
      "execution_count": 30,
      "outputs": [
        {
          "output_type": "execute_result",
          "data": {
            "text/plain": [
              "1    5059\n",
              "2    4157\n",
              "3    2855\n",
              "4    2544\n",
              "5    2353\n",
              "7    2027\n",
              "6    1953\n",
              "0    1768\n",
              "8    1674\n",
              "9    1642\n",
              "Name: class, dtype: int64"
            ]
          },
          "metadata": {},
          "execution_count": 30
        }
      ]
    },
    {
      "cell_type": "code",
      "source": [
        "df_submit.to_csv('maxvit_base_tf_224_ep10.csv', index=False)"
      ],
      "metadata": {
        "id": "6-DBjRQVnKse"
      },
      "execution_count": 31,
      "outputs": []
    },
    {
      "cell_type": "code",
      "source": [
        "!kaggle competitions submit -c hackathon-online-2022-image-processing -f maxvit_base_tf_224_ep10.csv -m \"maxvit_base_tf_224_ep10\""
      ],
      "metadata": {
        "colab": {
          "base_uri": "https://localhost:8080/"
        },
        "id": "3KRtGYsvnKp4",
        "outputId": "20523e43-c91f-4688-97a3-cc3fef543648"
      },
      "execution_count": 32,
      "outputs": [
        {
          "output_type": "stream",
          "name": "stdout",
          "text": [
            "100% 233k/233k [00:01<00:00, 236kB/s] \n",
            "Successfully submitted to Hackathon Online: Image Processing"
          ]
        }
      ]
    },
    {
      "cell_type": "code",
      "source": [],
      "metadata": {
        "id": "Pg0P6ywAnKmA"
      },
      "execution_count": null,
      "outputs": []
    }
  ]
}